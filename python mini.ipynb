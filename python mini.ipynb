{
 "cells": [
  {
   "cell_type": "markdown",
   "id": "042339f6",
   "metadata": {},
   "source": [
    "## Customer Churn Prediction\n",
    "#### - It is also known as customer attrition \n",
    "#### - In this customer leaves the service  or the compny for some reasons \n",
    "#### - Factors can be like dissatisfaction, low salary, poor customer experience  e"
   ]
  },
  {
   "cell_type": "markdown",
   "id": "f0befba1",
   "metadata": {},
   "source": [
    "##### importing libraries "
   ]
  },
  {
   "cell_type": "code",
   "execution_count": 177,
   "id": "1455263b",
   "metadata": {},
   "outputs": [],
   "source": [
    "import pandas as pd\n",
    "import numpy as np\n",
    "\n",
    "# for Data visualization\n",
    "import seaborn as sns\n",
    "import matplotlib.pyplot as plt\n",
    "%matplotlib inline\n",
    "import plotly.graph_objs as go\n",
    "from plotly.offline import init_notebook_mode, iplot\n",
    "import plotly.express as px\n",
    "from collections import Counter\n",
    "\n",
    "from imblearn.over_sampling import SMOTE\n",
    "from sklearn.metrics import accuracy_score,precision_score,recall_score,f1_score,classification_report,confusion_matrix\n",
    "from sklearn.model_selection import train_test_split,GridSearchCV,cross_val_score,KFold\n",
    "from sklearn.preprocessing import StandardScaler\n",
    "\n",
    "#for models\n",
    "from sklearn.linear_model import LogisticRegression\n",
    "from sklearn.svm import SVC\n",
    "from sklearn.neighbors import KNeighborsClassifier\n",
    "from sklearn.tree import DecisionTreeClassifier\n",
    "from sklearn.ensemble import RandomForestClassifier\n",
    "from sklearn.ensemble import GradientBoostingClassifier\n",
    "\n",
    "\n",
    "from sklearn.pipeline import Pipeline\n",
    "from sklearn.impute import SimpleImputer\n",
    "from sklearn.preprocessing import StandardScaler\n",
    "from sklearn.compose import ColumnTransformer\n",
    "from sklearn.preprocessing import OneHotEncoder\n",
    "from imblearn.pipeline import Pipeline as ImbPipeline\n",
    "\n",
    "import joblib"
   ]
  },
  {
   "cell_type": "markdown",
   "id": "30e437cf",
   "metadata": {},
   "source": [
    "#### About dataset\n",
    "churn_modelling.csv\n",
    "\n",
    "##### CustomerId: A unique identifier assigned to each customer.\n",
    "##### Surname: Surname of the customer.\n",
    "##### CreditScore: Credit Score of the customer\n",
    "##### Geography: The geographical location or country where the customer resides.\n",
    "##### Gender: Specifies The gender of the customer ( Male or Female).\n",
    "##### Age: Represents the age of the customer.\n",
    "##### Tenure: Refers to the number of years the customer has been with the bank or service .\n",
    "##### Balance: Indicates the account balance of the customer.\n",
    "##### NumOfProducts: Represents the number of products or services the customer has with the bank.\n",
    "##### HasCrCard: A binary attribute indicating whether the customer has a credit card (1 for yes, 0 for no).\n",
    "##### IsActiveMember: A binary attribute indicating whether the customer is an active member of the bank (1 for yes, 0 for no).\n",
    "##### EstimatedSalary: Represents the estimated salary of the customer.\n",
    "\n",
    "##### Exited: This attribute indicates whether the customer has churned or exited the bank (1 for churned, 0 for retained)."
   ]
  },
  {
   "cell_type": "markdown",
   "id": "bb1a43c6",
   "metadata": {},
   "source": [
    "#### Load Dataset"
   ]
  },
  {
   "cell_type": "code",
   "execution_count": 104,
   "id": "a3892baf",
   "metadata": {},
   "outputs": [],
   "source": [
    "data=pd.read_csv(r'Churn_Modelling.csv')"
   ]
  },
  {
   "cell_type": "markdown",
   "id": "c9c9e1f7",
   "metadata": {},
   "source": [
    "#### Function to display data"
   ]
  },
  {
   "cell_type": "code",
   "execution_count": 105,
   "id": "9a241701",
   "metadata": {},
   "outputs": [],
   "source": [
    "def disp_headtail(data,n=5):\n",
    "    print(\"Top {0} rows of data\".format(n))\n",
    "    print(data.head(n))\n",
    "    print()\n",
    "    print(\"Last {0} rows of data\".format(n))\n",
    "    print(data.tail(n))"
   ]
  },
  {
   "cell_type": "code",
   "execution_count": 106,
   "id": "07c71e01",
   "metadata": {},
   "outputs": [
    {
     "name": "stdout",
     "output_type": "stream",
     "text": [
      "Top 10 rows of data\n",
      "   RowNumber  CustomerId   Surname  CreditScore Geography  Gender  Age  \\\n",
      "0          1    15634602  Hargrave          619    France  Female   42   \n",
      "1          2    15647311      Hill          608     Spain  Female   41   \n",
      "2          3    15619304      Onio          502    France  Female   42   \n",
      "3          4    15701354      Boni          699    France  Female   39   \n",
      "4          5    15737888  Mitchell          850     Spain  Female   43   \n",
      "5          6    15574012       Chu          645     Spain    Male   44   \n",
      "6          7    15592531  Bartlett          822    France    Male   50   \n",
      "7          8    15656148    Obinna          376   Germany  Female   29   \n",
      "8          9    15792365        He          501    France    Male   44   \n",
      "9         10    15592389        H?          684    France    Male   27   \n",
      "\n",
      "   Tenure    Balance  NumOfProducts  HasCrCard  IsActiveMember  \\\n",
      "0       2       0.00              1          1               1   \n",
      "1       1   83807.86              1          0               1   \n",
      "2       8  159660.80              3          1               0   \n",
      "3       1       0.00              2          0               0   \n",
      "4       2  125510.82              1          1               1   \n",
      "5       8  113755.78              2          1               0   \n",
      "6       7       0.00              2          1               1   \n",
      "7       4  115046.74              4          1               0   \n",
      "8       4  142051.07              2          0               1   \n",
      "9       2  134603.88              1          1               1   \n",
      "\n",
      "   EstimatedSalary  Exited  \n",
      "0        101348.88       1  \n",
      "1        112542.58       0  \n",
      "2        113931.57       1  \n",
      "3         93826.63       0  \n",
      "4         79084.10       0  \n",
      "5        149756.71       1  \n",
      "6         10062.80       0  \n",
      "7        119346.88       1  \n",
      "8         74940.50       0  \n",
      "9         71725.73       0  \n",
      "\n",
      "Last 10 rows of data\n",
      "      RowNumber  CustomerId      Surname  CreditScore Geography  Gender  Age  \\\n",
      "9990       9991    15798964   Nkemakonam          714   Germany    Male   33   \n",
      "9991       9992    15769959  Ajuluchukwu          597    France  Female   53   \n",
      "9992       9993    15657105  Chukwualuka          726     Spain    Male   36   \n",
      "9993       9994    15569266       Rahman          644    France    Male   28   \n",
      "9994       9995    15719294         Wood          800    France  Female   29   \n",
      "9995       9996    15606229     Obijiaku          771    France    Male   39   \n",
      "9996       9997    15569892    Johnstone          516    France    Male   35   \n",
      "9997       9998    15584532          Liu          709    France  Female   36   \n",
      "9998       9999    15682355    Sabbatini          772   Germany    Male   42   \n",
      "9999      10000    15628319       Walker          792    France  Female   28   \n",
      "\n",
      "      Tenure    Balance  NumOfProducts  HasCrCard  IsActiveMember  \\\n",
      "9990       3   35016.60              1          1               0   \n",
      "9991       4   88381.21              1          1               0   \n",
      "9992       2       0.00              1          1               0   \n",
      "9993       7  155060.41              1          1               0   \n",
      "9994       2       0.00              2          0               0   \n",
      "9995       5       0.00              2          1               0   \n",
      "9996      10   57369.61              1          1               1   \n",
      "9997       7       0.00              1          0               1   \n",
      "9998       3   75075.31              2          1               0   \n",
      "9999       4  130142.79              1          1               0   \n",
      "\n",
      "      EstimatedSalary  Exited  \n",
      "9990         53667.08       0  \n",
      "9991         69384.71       1  \n",
      "9992        195192.40       0  \n",
      "9993         29179.52       0  \n",
      "9994        167773.55       0  \n",
      "9995         96270.64       0  \n",
      "9996        101699.77       0  \n",
      "9997         42085.58       1  \n",
      "9998         92888.52       1  \n",
      "9999         38190.78       0  \n"
     ]
    }
   ],
   "source": [
    "disp_headtail(data,10)"
   ]
  },
  {
   "cell_type": "code",
   "execution_count": 107,
   "id": "ba76d2dd",
   "metadata": {},
   "outputs": [
    {
     "data": {
      "text/plain": [
       "(10000, 14)"
      ]
     },
     "execution_count": 107,
     "metadata": {},
     "output_type": "execute_result"
    }
   ],
   "source": [
    "data.shape"
   ]
  },
  {
   "cell_type": "code",
   "execution_count": 108,
   "id": "4e19c5e1",
   "metadata": {},
   "outputs": [
    {
     "data": {
      "text/plain": [
       "Index(['RowNumber', 'CustomerId', 'Surname', 'CreditScore', 'Geography',\n",
       "       'Gender', 'Age', 'Tenure', 'Balance', 'NumOfProducts', 'HasCrCard',\n",
       "       'IsActiveMember', 'EstimatedSalary', 'Exited'],\n",
       "      dtype='object')"
      ]
     },
     "execution_count": 108,
     "metadata": {},
     "output_type": "execute_result"
    }
   ],
   "source": [
    "data.columns"
   ]
  },
  {
   "cell_type": "code",
   "execution_count": 109,
   "id": "e0d929ef",
   "metadata": {},
   "outputs": [],
   "source": [
    "def getInfoDescribe(data):\n",
    "    print(\"INFO\")\n",
    "    print(data.info())\n",
    "    print()\n",
    "    print(\"DESCRIBE\")\n",
    "    print(data.describe())"
   ]
  },
  {
   "cell_type": "code",
   "execution_count": 110,
   "id": "33c0432e",
   "metadata": {},
   "outputs": [
    {
     "name": "stdout",
     "output_type": "stream",
     "text": [
      "INFO\n",
      "<class 'pandas.core.frame.DataFrame'>\n",
      "RangeIndex: 10000 entries, 0 to 9999\n",
      "Data columns (total 14 columns):\n",
      " #   Column           Non-Null Count  Dtype  \n",
      "---  ------           --------------  -----  \n",
      " 0   RowNumber        10000 non-null  int64  \n",
      " 1   CustomerId       10000 non-null  int64  \n",
      " 2   Surname          10000 non-null  object \n",
      " 3   CreditScore      10000 non-null  int64  \n",
      " 4   Geography        10000 non-null  object \n",
      " 5   Gender           10000 non-null  object \n",
      " 6   Age              10000 non-null  int64  \n",
      " 7   Tenure           10000 non-null  int64  \n",
      " 8   Balance          10000 non-null  float64\n",
      " 9   NumOfProducts    10000 non-null  int64  \n",
      " 10  HasCrCard        10000 non-null  int64  \n",
      " 11  IsActiveMember   10000 non-null  int64  \n",
      " 12  EstimatedSalary  10000 non-null  float64\n",
      " 13  Exited           10000 non-null  int64  \n",
      "dtypes: float64(2), int64(9), object(3)\n",
      "memory usage: 1.1+ MB\n",
      "None\n",
      "\n",
      "DESCRIBE\n",
      "         RowNumber    CustomerId   CreditScore           Age        Tenure  \\\n",
      "count  10000.00000  1.000000e+04  10000.000000  10000.000000  10000.000000   \n",
      "mean    5000.50000  1.569094e+07    650.528800     38.921800      5.012800   \n",
      "std     2886.89568  7.193619e+04     96.653299     10.487806      2.892174   \n",
      "min        1.00000  1.556570e+07    350.000000     18.000000      0.000000   \n",
      "25%     2500.75000  1.562853e+07    584.000000     32.000000      3.000000   \n",
      "50%     5000.50000  1.569074e+07    652.000000     37.000000      5.000000   \n",
      "75%     7500.25000  1.575323e+07    718.000000     44.000000      7.000000   \n",
      "max    10000.00000  1.581569e+07    850.000000     92.000000     10.000000   \n",
      "\n",
      "             Balance  NumOfProducts    HasCrCard  IsActiveMember  \\\n",
      "count   10000.000000   10000.000000  10000.00000    10000.000000   \n",
      "mean    76485.889288       1.530200      0.70550        0.515100   \n",
      "std     62397.405202       0.581654      0.45584        0.499797   \n",
      "min         0.000000       1.000000      0.00000        0.000000   \n",
      "25%         0.000000       1.000000      0.00000        0.000000   \n",
      "50%     97198.540000       1.000000      1.00000        1.000000   \n",
      "75%    127644.240000       2.000000      1.00000        1.000000   \n",
      "max    250898.090000       4.000000      1.00000        1.000000   \n",
      "\n",
      "       EstimatedSalary        Exited  \n",
      "count     10000.000000  10000.000000  \n",
      "mean     100090.239881      0.203700  \n",
      "std       57510.492818      0.402769  \n",
      "min          11.580000      0.000000  \n",
      "25%       51002.110000      0.000000  \n",
      "50%      100193.915000      0.000000  \n",
      "75%      149388.247500      0.000000  \n",
      "max      199992.480000      1.000000  \n"
     ]
    }
   ],
   "source": [
    "getInfoDescribe(data)"
   ]
  },
  {
   "cell_type": "markdown",
   "id": "f25f6c8e",
   "metadata": {},
   "source": []
  },
  {
   "cell_type": "code",
   "execution_count": null,
   "id": "eaea9b07",
   "metadata": {},
   "outputs": [],
   "source": [
    "\n",
    "    "
   ]
  },
  {
   "cell_type": "code",
   "execution_count": null,
   "id": "9c890e98",
   "metadata": {},
   "outputs": [],
   "source": []
  },
  {
   "cell_type": "code",
   "execution_count": null,
   "id": "97713a71",
   "metadata": {},
   "outputs": [],
   "source": []
  },
  {
   "cell_type": "markdown",
   "id": "3fde748a",
   "metadata": {},
   "source": []
  },
  {
   "cell_type": "code",
   "execution_count": null,
   "id": "15c228d6",
   "metadata": {},
   "outputs": [],
   "source": []
  },
  {
   "cell_type": "code",
   "execution_count": null,
   "id": "5c6d21f3",
   "metadata": {},
   "outputs": [],
   "source": []
  },
  {
   "cell_type": "code",
   "execution_count": 76,
   "id": "8013134e",
   "metadata": {},
   "outputs": [
    {
     "data": {
      "text/plain": [
       "Index(['RowNumber', 'CustomerId', 'Surname', 'CreditScore', 'Geography',\n",
       "       'Gender', 'Age', 'Tenure', 'Balance', 'NumOfProducts', 'HasCrCard',\n",
       "       'IsActiveMember', 'EstimatedSalary', 'Exited'],\n",
       "      dtype='object')"
      ]
     },
     "execution_count": 76,
     "metadata": {},
     "output_type": "execute_result"
    }
   ],
   "source": [
    "data.columns"
   ]
  },
  {
   "cell_type": "markdown",
   "id": "0cd8935e",
   "metadata": {},
   "source": [
    "#### data visualization"
   ]
  },
  {
   "cell_type": "code",
   "execution_count": 77,
   "id": "b3338f76",
   "metadata": {},
   "outputs": [
    {
     "data": {
      "image/png": "[encoded data removed]",
      "text/plain": [
       "<Figure size 1200x800 with 6 Axes>"
      ]
     },
     "metadata": {},
     "output_type": "display_data"
    }
   ],
   "source": [
    "numerical_features = ['CreditScore', 'Age', 'Tenure', 'Balance', 'NumOfProducts', 'EstimatedSalary']\n",
    "\n",
    "plt.figure(figsize=(12, 8))\n",
    "for i, feature in enumerate(numerical_features, 1):\n",
    "    plt.subplot(2, 3, i)\n",
    "    sns.histplot(data[data['Exited'] == 0][feature], bins=20, kde=True, color='blue', label='Not Exited')\n",
    "    sns.histplot(data[data['Exited'] == 1][feature], bins=20, kde=True, color='orange', label='Exited')\n",
    "    plt.title(feature)\n",
    "    plt.legend()\n",
    "plt.tight_layout()\n",
    "plt.show()\n"
   ]
  },
  {
   "cell_type": "markdown",
   "id": "1eb6fc6b",
   "metadata": {},
   "source": [
    "#### The plots above display the count of employees who exited or stayed, categorized by different features.\n",
    "#### It can be observed from the CreditScore plot that employees with a score below 400 are more likely to have exited.\n",
    "#### Based on the Age plot, it appears that employees aged between 38 and 55 are less likely to stay with the company. "
   ]
  },
  {
   "cell_type": "code",
   "execution_count": 78,
   "id": "4cb6d177",
   "metadata": {},
   "outputs": [
    {
     "data": {
      "image/png": "[encoded data removed]",
      "text/plain": [
       "<Figure size 1200x500 with 4 Axes>"
      ]
     },
     "metadata": {},
     "output_type": "display_data"
    }
   ],
   "source": [
    "categorical_features = ['HasCrCard', 'IsActiveMember', 'Geography', 'Gender']\n",
    "\n",
    "exited_data = data[data['Exited'] == 1]\n",
    "\n",
    "\n",
    "plt.figure(figsize=(12, 5))\n",
    "for i, feature in enumerate(categorical_features, 1):\n",
    "    plt.subplot(2, 3, i)\n",
    "    sns.countplot(data=exited_data, x=feature, palette='Set1')\n",
    "    plt.title(feature)\n",
    "plt.tight_layout()\n",
    "plt.show()\n"
   ]
  },
  {
   "cell_type": "markdown",
   "id": "da814370",
   "metadata": {},
   "source": [
    "#### The plots above display the count of employees who exited or stayed, categorized by different features.\n",
    "#### According to the data, people with credit cards have left the company. \n",
    "#### Female employees have a higher rate of leaving."
   ]
  },
  {
   "cell_type": "code",
   "execution_count": null,
   "id": "a1361733",
   "metadata": {},
   "outputs": [],
   "source": []
  },
  {
   "cell_type": "markdown",
   "id": "67336011",
   "metadata": {},
   "source": [
    "#### Plotting the heatmap of correlation between features "
   ]
  },
  {
   "cell_type": "code",
   "execution_count": 79,
   "id": "64388544",
   "metadata": {},
   "outputs": [
    {
     "data": {
      "text/plain": [
       "<Axes: >"
      ]
     },
     "execution_count": 79,
     "metadata": {},
     "output_type": "execute_result"
    },
    {
     "data": {
      "image/png": "[encoded data removed]",
      "text/plain": [
       "<Figure size 1500x1500 with 2 Axes>"
      ]
     },
     "metadata": {},
     "output_type": "display_data"
    }
   ],
   "source": [
    "plt.style.use(\"ggplot\")\n",
    "f,ax=plt.subplots(figsize = (15,15))\n",
    "sns.heatmap(data.drop([\"RowNumber\",'CustomerId'],axis = 1).corr(),robust=True,fmt='.1g',linewidths=1.3,linecolor = 'gold', annot=True,)"
   ]
  },
  {
   "cell_type": "markdown",
   "id": "71db9ab3",
   "metadata": {},
   "source": [
    "#### Countries with the less and the most common use of credit cards"
   ]
  },
  {
   "cell_type": "code",
   "execution_count": 80,
   "id": "32d50faf",
   "metadata": {},
   "outputs": [
    {
     "name": "stdout",
     "output_type": "stream",
     "text": [
      "Geography\n",
      "France     3543\n",
      "Germany    1791\n",
      "Spain      1721\n",
      "Name: HasCrCard, dtype: int64\n"
     ]
    },
    {
     "data": {
      "image/png": "[encoded data removed]",
      "text/plain": [
       "<Figure size 1500x1000 with 1 Axes>"
      ]
     },
     "metadata": {},
     "output_type": "display_data"
    }
   ],
   "source": [
    "plt.figure(figsize = (15,10)) \n",
    "sns.countplot(x=\"HasCrCard\",hue = \"Geography\", data=data, palette=\"husl\")\n",
    "print(data.groupby('Geography')[\"HasCrCard\"].sum()) "
   ]
  },
  {
   "cell_type": "code",
   "execution_count": null,
   "id": "99a85b99",
   "metadata": {},
   "outputs": [],
   "source": []
  },
  {
   "cell_type": "code",
   "execution_count": 81,
   "id": "c44eee20",
   "metadata": {},
   "outputs": [],
   "source": [
    "below_30 = data[data[\"Age\"]<30]\n",
    "between_30_40 = data[(data[\"Age\"]>=30) & (data[\"Age\"]<40)]\n",
    "between_40_50 = data[(data[\"Age\"]>=40) & (data[\"Age\"]<50)]\n",
    "between_50_60 = data[(data[\"Age\"]>=50) & (data[\"Age\"]<60)]\n",
    "between_60_70 = data[(data[\"Age\"]>=60) & (data[\"Age\"]<70)]\n",
    "above_70 = data[(data[\"Age\"]>=70)]\n",
    "\n",
    "k = below_30[\"Exited\"].sum()\n",
    "l = between_30_40[\"Exited\"].sum()\n",
    "m = between_40_50[\"Exited\"].sum()\n",
    "n = between_50_60[\"Exited\"].sum()\n",
    "o = between_60_70[\"Exited\"].sum()\n",
    "p = above_70[\"Exited\"].sum()"
   ]
  },
  {
   "cell_type": "code",
   "execution_count": 82,
   "id": "7de1e5ae",
   "metadata": {},
   "outputs": [],
   "source": [
    "age_list = [('Total Stayed=',below_30['Exited'].value_counts()[:1],\"Ages below 30==>\",k,\"Exited\"),\n",
    "            ('Total stayed=',between_30_40['Exited'].value_counts()[:1],'Ages between 30-40==>',l,\"Exited\"),\n",
    "            ('Total stayed=',between_40_50['Exited'].value_counts()[:1],\"Ages between 40-50==>\",m,\"Exited\"),\n",
    "            ('Total stayed=',between_50_60['Exited'].value_counts()[:1],\"Ages between 50-60==>\",n,\"Exited\"),\n",
    "            ('Total stayed=',between_60_70['Exited'].value_counts()[:1],\"Ages between 60-70==>\",o,\"Exited\"),\n",
    "            ('Total stayed=',above_70['Exited'].value_counts()[:1],\"Ages above 70==>\",p,\"Exited\")]"
   ]
  },
  {
   "cell_type": "code",
   "execution_count": null,
   "id": "ab974d82",
   "metadata": {},
   "outputs": [],
   "source": []
  },
  {
   "cell_type": "code",
   "execution_count": 83,
   "id": "211375ed",
   "metadata": {},
   "outputs": [
    {
     "data": {
      "application/vnd.plotly.v1+json": {
       "config": {
        "linkText": "Export to plot.ly",
        "plotlyServerURL": "https://plot.ly",
        "showLink": false
       },
       "data": [
        {
         "domain": {
          "x": [
           0.2,
           1
          ]
         },
         "hole": 0.4,
         "hoverinfo": "label+percent+name",
         "labels": [
          [
           "Total Stayed=",
           [
            1517
           ],
           "Ages below 30==>",
           124,
           "Exited"
          ],
          [
           "Total stayed=",
           [
            3873
           ],
           "Ages between 30-40==>",
           473,
           "Exited"
          ],
          [
           "Total stayed=",
           [
            1812
           ],
           "Ages between 40-50==>",
           806,
           "Exited"
          ],
          [
           "Total stayed=",
           [
            487
           ],
           "Ages between 50-60==>",
           487,
           "Exited"
          ],
          [
           "Total stayed=",
           [
            243
           ],
           "Ages between 60-70==>",
           132,
           "Exited"
          ],
          [
           "Total stayed=",
           [
            136
           ],
           "Ages above 70==>",
           15,
           "Exited"
          ]
         ],
         "name": "Age Groups-Exit Rate",
         "type": "pie",
         "values": [
          124,
          473,
          806,
          487,
          132,
          15
         ]
        }
       ],
       "layout": {
        "annotations": [
         {
          "font": {
           "size": 20
          },
          "showarrow": false,
          "text": "Age Group-Exited",
          "x": 0.6,
          "y": 0.5
         }
        ],
        "template": {
         "data": {
          "bar": [
           {
            "error_x": {
             "color": "#2a3f5f"
            },
            "error_y": {
             "color": "#2a3f5f"
            },
            "marker": {
             "line": {
              "color": "#E5ECF6",
              "width": 0.5
             },
             "pattern": {
              "fillmode": "overlay",
              "size": 10,
              "solidity": 0.2
             }
            },
            "type": "bar"
           }
          ],
          "barpolar": [
           {
            "marker": {
             "line": {
              "color": "#E5ECF6",
              "width": 0.5
             },
             "pattern": {
              "fillmode": "overlay",
              "size": 10,
              "solidity": 0.2
             }
            },
            "type": "barpolar"
           }
          ],
          "carpet": [
           {
            "aaxis": {
             "endlinecolor": "#2a3f5f",
             "gridcolor": "white",
             "linecolor": "white",
             "minorgridcolor": "white",
             "startlinecolor": "#2a3f5f"
            },
            "baxis": {
             "endlinecolor": "#2a3f5f",
             "gridcolor": "white",
             "linecolor": "white",
             "minorgridcolor": "white",
             "startlinecolor": "#2a3f5f"
            },
            "type": "carpet"
           }
          ],
          "choropleth": [
           {
            "colorbar": {
             "outlinewidth": 0,
             "ticks": ""
            },
            "type": "choropleth"
           }
          ],
          "contour": [
           {
            "colorbar": {
             "outlinewidth": 0,
             "ticks": ""
            },
            "colorscale": [
             [
              0,
              "#0d0887"
             ],
             [
              0.1111111111111111,
              "#46039f"
             ],
             [
              0.2222222222222222,
              "#7201a8"
             ],
             [
              0.3333333333333333,
              "#9c179e"
             ],
             [
              0.4444444444444444,
              "#bd3786"
             ],
             [
              0.5555555555555556,
              "#d8576b"
             ],
             [
              0.6666666666666666,
              "#ed7953"
             ],
             [
              0.7777777777777778,
              "#fb9f3a"
             ],
             [
              0.8888888888888888,
              "#fdca26"
             ],
             [
              1,
              "#f0f921"
             ]
            ],
            "type": "contour"
           }
          ],
          "contourcarpet": [
           {
            "colorbar": {
             "outlinewidth": 0,
             "ticks": ""
            },
            "type": "contourcarpet"
           }
          ],
          "heatmap": [
           {
            "colorbar": {
             "outlinewidth": 0,
             "ticks": ""
            },
            "colorscale": [
             [
              0,
              "#0d0887"
             ],
             [
              0.1111111111111111,
              "#46039f"
             ],
             [
              0.2222222222222222,
              "#7201a8"
             ],
             [
              0.3333333333333333,
              "#9c179e"
             ],
             [
              0.4444444444444444,
              "#bd3786"
             ],
             [
              0.5555555555555556,
              "#d8576b"
             ],
             [
              0.6666666666666666,
              "#ed7953"
             ],
             [
              0.7777777777777778,
              "#fb9f3a"
             ],
             [
              0.8888888888888888,
              "#fdca26"
             ],
             [
              1,
              "#f0f921"
             ]
            ],
            "type": "heatmap"
           }
          ],
          "heatmapgl": [
           {
            "colorbar": {
             "outlinewidth": 0,
             "ticks": ""
            },
            "colorscale": [
             [
              0,
              "#0d0887"
             ],
             [
              0.1111111111111111,
              "#46039f"
             ],
             [
              0.2222222222222222,
              "#7201a8"
             ],
             [
              0.3333333333333333,
              "#9c179e"
             ],
             [
              0.4444444444444444,
              "#bd3786"
             ],
             [
              0.5555555555555556,
              "#d8576b"
             ],
             [
              0.6666666666666666,
              "#ed7953"
             ],
             [
              0.7777777777777778,
              "#fb9f3a"
             ],
             [
              0.8888888888888888,
              "#fdca26"
             ],
             [
              1,
              "#f0f921"
             ]
            ],
            "type": "heatmapgl"
           }
          ],
          "histogram": [
           {
            "marker": {
             "pattern": {
              "fillmode": "overlay",
              "size": 10,
              "solidity": 0.2
             }
            },
            "type": "histogram"
           }
          ],
          "histogram2d": [
           {
            "colorbar": {
             "outlinewidth": 0,
             "ticks": ""
            },
            "colorscale": [
             [
              0,
              "#0d0887"
             ],
             [
              0.1111111111111111,
              "#46039f"
             ],
             [
              0.2222222222222222,
              "#7201a8"
             ],
             [
              0.3333333333333333,
              "#9c179e"
             ],
             [
              0.4444444444444444,
              "#bd3786"
             ],
             [
              0.5555555555555556,
              "#d8576b"
             ],
             [
              0.6666666666666666,
              "#ed7953"
             ],
             [
              0.7777777777777778,
              "#fb9f3a"
             ],
             [
              0.8888888888888888,
              "#fdca26"
             ],
             [
              1,
              "#f0f921"
             ]
            ],
            "type": "histogram2d"
           }
          ],
          "histogram2dcontour": [
           {
            "colorbar": {
             "outlinewidth": 0,
             "ticks": ""
            },
            "colorscale": [
             [
              0,
              "#0d0887"
             ],
             [
              0.1111111111111111,
              "#46039f"
             ],
             [
              0.2222222222222222,
              "#7201a8"
             ],
             [
              0.3333333333333333,
              "#9c179e"
             ],
             [
              0.4444444444444444,
              "#bd3786"
             ],
             [
              0.5555555555555556,
              "#d8576b"
             ],
             [
              0.6666666666666666,
              "#ed7953"
             ],
             [
              0.7777777777777778,
              "#fb9f3a"
             ],
             [
              0.8888888888888888,
              "#fdca26"
             ],
             [
              1,
              "#f0f921"
             ]
            ],
            "type": "histogram2dcontour"
           }
          ],
          "mesh3d": [
           {
            "colorbar": {
             "outlinewidth": 0,
             "ticks": ""
            },
            "type": "mesh3d"
           }
          ],
          "parcoords": [
           {
            "line": {
             "colorbar": {
              "outlinewidth": 0,
              "ticks": ""
             }
            },
            "type": "parcoords"
           }
          ],
          "pie": [
           {
            "automargin": true,
            "type": "pie"
           }
          ],
          "scatter": [
           {
            "fillpattern": {
             "fillmode": "overlay",
             "size": 10,
             "solidity": 0.2
            },
            "type": "scatter"
           }
          ],
          "scatter3d": [
           {
            "line": {
             "colorbar": {
              "outlinewidth": 0,
              "ticks": ""
             }
            },
            "marker": {
             "colorbar": {
              "outlinewidth": 0,
              "ticks": ""
             }
            },
            "type": "scatter3d"
           }
          ],
          "scattercarpet": [
           {
            "marker": {
             "colorbar": {
              "outlinewidth": 0,
              "ticks": ""
             }
            },
            "type": "scattercarpet"
           }
          ],
          "scattergeo": [
           {
            "marker": {
             "colorbar": {
              "outlinewidth": 0,
              "ticks": ""
             }
            },
            "type": "scattergeo"
           }
          ],
          "scattergl": [
           {
            "marker": {
             "colorbar": {
              "outlinewidth": 0,
              "ticks": ""
             }
            },
            "type": "scattergl"
           }
          ],
          "scattermapbox": [
           {
            "marker": {
             "colorbar": {
              "outlinewidth": 0,
              "ticks": ""
             }
            },
            "type": "scattermapbox"
           }
          ],
          "scatterpolar": [
           {
            "marker": {
             "colorbar": {
              "outlinewidth": 0,
              "ticks": ""
             }
            },
            "type": "scatterpolar"
           }
          ],
          "scatterpolargl": [
           {
            "marker": {
             "colorbar": {
              "outlinewidth": 0,
              "ticks": ""
             }
            },
            "type": "scatterpolargl"
           }
          ],
          "scatterternary": [
           {
            "marker": {
             "colorbar": {
              "outlinewidth": 0,
              "ticks": ""
             }
            },
            "type": "scatterternary"
           }
          ],
          "surface": [
           {
            "colorbar": {
             "outlinewidth": 0,
             "ticks": ""
            },
            "colorscale": [
             [
              0,
              "#0d0887"
             ],
             [
              0.1111111111111111,
              "#46039f"
             ],
             [
              0.2222222222222222,
              "#7201a8"
             ],
             [
              0.3333333333333333,
              "#9c179e"
             ],
             [
              0.4444444444444444,
              "#bd3786"
             ],
             [
              0.5555555555555556,
              "#d8576b"
             ],
             [
              0.6666666666666666,
              "#ed7953"
             ],
             [
              0.7777777777777778,
              "#fb9f3a"
             ],
             [
              0.8888888888888888,
              "#fdca26"
             ],
             [
              1,
              "#f0f921"
             ]
            ],
            "type": "surface"
           }
          ],
          "table": [
           {
            "cells": {
             "fill": {
              "color": "#EBF0F8"
             },
             "line": {
              "color": "white"
             }
            },
            "header": {
             "fill": {
              "color": "#C8D4E3"
             },
             "line": {
              "color": "white"
             }
            },
            "type": "table"
           }
          ]
         },
         "layout": {
          "annotationdefaults": {
           "arrowcolor": "#2a3f5f",
           "arrowhead": 0,
           "arrowwidth": 1
          },
          "autotypenumbers": "strict",
          "coloraxis": {
           "colorbar": {
            "outlinewidth": 0,
            "ticks": ""
           }
          },
          "colorscale": {
           "diverging": [
            [
             0,
             "#8e0152"
            ],
            [
             0.1,
             "#c51b7d"
            ],
            [
             0.2,
             "#de77ae"
            ],
            [
             0.3,
             "#f1b6da"
            ],
            [
             0.4,
             "#fde0ef"
            ],
            [
             0.5,
             "#f7f7f7"
            ],
            [
             0.6,
             "#e6f5d0"
            ],
            [
             0.7,
             "#b8e186"
            ],
            [
             0.8,
             "#7fbc41"
            ],
            [
             0.9,
             "#4d9221"
            ],
            [
             1,
             "#276419"
            ]
           ],
           "sequential": [
            [
             0,
             "#0d0887"
            ],
            [
             0.1111111111111111,
             "#46039f"
            ],
            [
             0.2222222222222222,
             "#7201a8"
            ],
            [
             0.3333333333333333,
             "#9c179e"
            ],
            [
             0.4444444444444444,
             "#bd3786"
            ],
            [
             0.5555555555555556,
             "#d8576b"
            ],
            [
             0.6666666666666666,
             "#ed7953"
            ],
            [
             0.7777777777777778,
             "#fb9f3a"
            ],
            [
             0.8888888888888888,
             "#fdca26"
            ],
            [
             1,
             "#f0f921"
            ]
           ],
           "sequentialminus": [
            [
             0,
             "#0d0887"
            ],
            [
             0.1111111111111111,
             "#46039f"
            ],
            [
             0.2222222222222222,
             "#7201a8"
            ],
            [
             0.3333333333333333,
             "#9c179e"
            ],
            [
             0.4444444444444444,
             "#bd3786"
            ],
            [
             0.5555555555555556,
             "#d8576b"
            ],
            [
             0.6666666666666666,
             "#ed7953"
            ],
            [
             0.7777777777777778,
             "#fb9f3a"
            ],
            [
             0.8888888888888888,
             "#fdca26"
            ],
            [
             1,
             "#f0f921"
            ]
           ]
          },
          "colorway": [
           "#636efa",
           "#EF553B",
           "#00cc96",
           "#ab63fa",
           "#FFA15A",
           "#19d3f3",
           "#FF6692",
           "#B6E880",
           "#FF97FF",
           "#FECB52"
          ],
          "font": {
           "color": "#2a3f5f"
          },
          "geo": {
           "bgcolor": "white",
           "lakecolor": "white",
           "landcolor": "#E5ECF6",
           "showlakes": true,
           "showland": true,
           "subunitcolor": "white"
          },
          "hoverlabel": {
           "align": "left"
          },
          "hovermode": "closest",
          "mapbox": {
           "style": "light"
          },
          "paper_bgcolor": "white",
          "plot_bgcolor": "#E5ECF6",
          "polar": {
           "angularaxis": {
            "gridcolor": "white",
            "linecolor": "white",
            "ticks": ""
           },
           "bgcolor": "#E5ECF6",
           "radialaxis": {
            "gridcolor": "white",
            "linecolor": "white",
            "ticks": ""
           }
          },
          "scene": {
           "xaxis": {
            "backgroundcolor": "#E5ECF6",
            "gridcolor": "white",
            "gridwidth": 2,
            "linecolor": "white",
            "showbackground": true,
            "ticks": "",
            "zerolinecolor": "white"
           },
           "yaxis": {
            "backgroundcolor": "#E5ECF6",
            "gridcolor": "white",
            "gridwidth": 2,
            "linecolor": "white",
            "showbackground": true,
            "ticks": "",
            "zerolinecolor": "white"
           },
           "zaxis": {
            "backgroundcolor": "#E5ECF6",
            "gridcolor": "white",
            "gridwidth": 2,
            "linecolor": "white",
            "showbackground": true,
            "ticks": "",
            "zerolinecolor": "white"
           }
          },
          "shapedefaults": {
           "line": {
            "color": "#2a3f5f"
           }
          },
          "ternary": {
           "aaxis": {
            "gridcolor": "white",
            "linecolor": "white",
            "ticks": ""
           },
           "baxis": {
            "gridcolor": "white",
            "linecolor": "white",
            "ticks": ""
           },
           "bgcolor": "#E5ECF6",
           "caxis": {
            "gridcolor": "white",
            "linecolor": "white",
            "ticks": ""
           }
          },
          "title": {
           "x": 0.05
          },
          "xaxis": {
           "automargin": true,
           "gridcolor": "white",
           "linecolor": "white",
           "ticks": "",
           "title": {
            "standoff": 15
           },
           "zerolinecolor": "white",
           "zerolinewidth": 2
          },
          "yaxis": {
           "automargin": true,
           "gridcolor": "white",
           "linecolor": "white",
           "ticks": "",
           "title": {
            "standoff": 15
           },
           "zerolinecolor": "white",
           "zerolinewidth": 2
          }
         }
        },
        "title": {
         "text": "Percentage of Age Groups for Longer Work With Bank"
        }
       }
      },
      "text/html": [
       "<div>                            <div id=\"8d824ca1-1a1a-41f3-aa70-c7df9e3ef866\" class=\"plotly-graph-div\" style=\"height:525px; width:100%;\"></div>            <script type=\"text/javascript\">                require([\"plotly\"], function(Plotly) {                    window.PLOTLYENV=window.PLOTLYENV || {};                                    if (document.getElementById(\"8d824ca1-1a1a-41f3-aa70-c7df9e3ef866\")) {                    Plotly.newPlot(                        \"8d824ca1-1a1a-41f3-aa70-c7df9e3ef866\",                        [{\"domain\":{\"x\":[0.2,1]},\"hole\":0.4,\"hoverinfo\":\"label+percent+name\",\"labels\":[[\"Total Stayed=\",[1517],\"Ages below 30==>\",124,\"Exited\"],[\"Total stayed=\",[3873],\"Ages between 30-40==>\",473,\"Exited\"],[\"Total stayed=\",[1812],\"Ages between 40-50==>\",806,\"Exited\"],[\"Total stayed=\",[487],\"Ages between 50-60==>\",487,\"Exited\"],[\"Total stayed=\",[243],\"Ages between 60-70==>\",132,\"Exited\"],[\"Total stayed=\",[136],\"Ages above 70==>\",15,\"Exited\"]],\"name\":\"Age Groups-Exit Rate\",\"values\":[124,473,806,487,132,15],\"type\":\"pie\"}],                        {\"annotations\":[{\"font\":{\"size\":20},\"showarrow\":false,\"text\":\"Age Group-Exited\",\"x\":0.6,\"y\":0.5}],\"template\":{\"data\":{\"barpolar\":[{\"marker\":{\"line\":{\"color\":\"#E5ECF6\",\"width\":0.5},\"pattern\":{\"fillmode\":\"overlay\",\"size\":10,\"solidity\":0.2}},\"type\":\"barpolar\"}],\"bar\":[{\"error_x\":{\"color\":\"#2a3f5f\"},\"error_y\":{\"color\":\"#2a3f5f\"},\"marker\":{\"line\":{\"color\":\"#E5ECF6\",\"width\":0.5},\"pattern\":{\"fillmode\":\"overlay\",\"size\":10,\"solidity\":0.2}},\"type\":\"bar\"}],\"carpet\":[{\"aaxis\":{\"endlinecolor\":\"#2a3f5f\",\"gridcolor\":\"white\",\"linecolor\":\"white\",\"minorgridcolor\":\"white\",\"startlinecolor\":\"#2a3f5f\"},\"baxis\":{\"endlinecolor\":\"#2a3f5f\",\"gridcolor\":\"white\",\"linecolor\":\"white\",\"minorgridcolor\":\"white\",\"startlinecolor\":\"#2a3f5f\"},\"type\":\"carpet\"}],\"choropleth\":[{\"colorbar\":{\"outlinewidth\":0,\"ticks\":\"\"},\"type\":\"choropleth\"}],\"contourcarpet\":[{\"colorbar\":{\"outlinewidth\":0,\"ticks\":\"\"},\"type\":\"contourcarpet\"}],\"contour\":[{\"colorbar\":{\"outlinewidth\":0,\"ticks\":\"\"},\"colorscale\":[[0.0,\"#0d0887\"],[0.1111111111111111,\"#46039f\"],[0.2222222222222222,\"#7201a8\"],[0.3333333333333333,\"#9c179e\"],[0.4444444444444444,\"#bd3786\"],[0.5555555555555556,\"#d8576b\"],[0.6666666666666666,\"#ed7953\"],[0.7777777777777778,\"#fb9f3a\"],[0.8888888888888888,\"#fdca26\"],[1.0,\"#f0f921\"]],\"type\":\"contour\"}],\"heatmapgl\":[{\"colorbar\":{\"outlinewidth\":0,\"ticks\":\"\"},\"colorscale\":[[0.0,\"#0d0887\"],[0.1111111111111111,\"#46039f\"],[0.2222222222222222,\"#7201a8\"],[0.3333333333333333,\"#9c179e\"],[0.4444444444444444,\"#bd3786\"],[0.5555555555555556,\"#d8576b\"],[0.6666666666666666,\"#ed7953\"],[0.7777777777777778,\"#fb9f3a\"],[0.8888888888888888,\"#fdca26\"],[1.0,\"#f0f921\"]],\"type\":\"heatmapgl\"}],\"heatmap\":[{\"colorbar\":{\"outlinewidth\":0,\"ticks\":\"\"},\"colorscale\":[[0.0,\"#0d0887\"],[0.1111111111111111,\"#46039f\"],[0.2222222222222222,\"#7201a8\"],[0.3333333333333333,\"#9c179e\"],[0.4444444444444444,\"#bd3786\"],[0.5555555555555556,\"#d8576b\"],[0.6666666666666666,\"#ed7953\"],[0.7777777777777778,\"#fb9f3a\"],[0.8888888888888888,\"#fdca26\"],[1.0,\"#f0f921\"]],\"type\":\"heatmap\"}],\"histogram2dcontour\":[{\"colorbar\":{\"outlinewidth\":0,\"ticks\":\"\"},\"colorscale\":[[0.0,\"#0d0887\"],[0.1111111111111111,\"#46039f\"],[0.2222222222222222,\"#7201a8\"],[0.3333333333333333,\"#9c179e\"],[0.4444444444444444,\"#bd3786\"],[0.5555555555555556,\"#d8576b\"],[0.6666666666666666,\"#ed7953\"],[0.7777777777777778,\"#fb9f3a\"],[0.8888888888888888,\"#fdca26\"],[1.0,\"#f0f921\"]],\"type\":\"histogram2dcontour\"}],\"histogram2d\":[{\"colorbar\":{\"outlinewidth\":0,\"ticks\":\"\"},\"colorscale\":[[0.0,\"#0d0887\"],[0.1111111111111111,\"#46039f\"],[0.2222222222222222,\"#7201a8\"],[0.3333333333333333,\"#9c179e\"],[0.4444444444444444,\"#bd3786\"],[0.5555555555555556,\"#d8576b\"],[0.6666666666666666,\"#ed7953\"],[0.7777777777777778,\"#fb9f3a\"],[0.8888888888888888,\"#fdca26\"],[1.0,\"#f0f921\"]],\"type\":\"histogram2d\"}],\"histogram\":[{\"marker\":{\"pattern\":{\"fillmode\":\"overlay\",\"size\":10,\"solidity\":0.2}},\"type\":\"histogram\"}],\"mesh3d\":[{\"colorbar\":{\"outlinewidth\":0,\"ticks\":\"\"},\"type\":\"mesh3d\"}],\"parcoords\":[{\"line\":{\"colorbar\":{\"outlinewidth\":0,\"ticks\":\"\"}},\"type\":\"parcoords\"}],\"pie\":[{\"automargin\":true,\"type\":\"pie\"}],\"scatter3d\":[{\"line\":{\"colorbar\":{\"outlinewidth\":0,\"ticks\":\"\"}},\"marker\":{\"colorbar\":{\"outlinewidth\":0,\"ticks\":\"\"}},\"type\":\"scatter3d\"}],\"scattercarpet\":[{\"marker\":{\"colorbar\":{\"outlinewidth\":0,\"ticks\":\"\"}},\"type\":\"scattercarpet\"}],\"scattergeo\":[{\"marker\":{\"colorbar\":{\"outlinewidth\":0,\"ticks\":\"\"}},\"type\":\"scattergeo\"}],\"scattergl\":[{\"marker\":{\"colorbar\":{\"outlinewidth\":0,\"ticks\":\"\"}},\"type\":\"scattergl\"}],\"scattermapbox\":[{\"marker\":{\"colorbar\":{\"outlinewidth\":0,\"ticks\":\"\"}},\"type\":\"scattermapbox\"}],\"scatterpolargl\":[{\"marker\":{\"colorbar\":{\"outlinewidth\":0,\"ticks\":\"\"}},\"type\":\"scatterpolargl\"}],\"scatterpolar\":[{\"marker\":{\"colorbar\":{\"outlinewidth\":0,\"ticks\":\"\"}},\"type\":\"scatterpolar\"}],\"scatter\":[{\"fillpattern\":{\"fillmode\":\"overlay\",\"size\":10,\"solidity\":0.2},\"type\":\"scatter\"}],\"scatterternary\":[{\"marker\":{\"colorbar\":{\"outlinewidth\":0,\"ticks\":\"\"}},\"type\":\"scatterternary\"}],\"surface\":[{\"colorbar\":{\"outlinewidth\":0,\"ticks\":\"\"},\"colorscale\":[[0.0,\"#0d0887\"],[0.1111111111111111,\"#46039f\"],[0.2222222222222222,\"#7201a8\"],[0.3333333333333333,\"#9c179e\"],[0.4444444444444444,\"#bd3786\"],[0.5555555555555556,\"#d8576b\"],[0.6666666666666666,\"#ed7953\"],[0.7777777777777778,\"#fb9f3a\"],[0.8888888888888888,\"#fdca26\"],[1.0,\"#f0f921\"]],\"type\":\"surface\"}],\"table\":[{\"cells\":{\"fill\":{\"color\":\"#EBF0F8\"},\"line\":{\"color\":\"white\"}},\"header\":{\"fill\":{\"color\":\"#C8D4E3\"},\"line\":{\"color\":\"white\"}},\"type\":\"table\"}]},\"layout\":{\"annotationdefaults\":{\"arrowcolor\":\"#2a3f5f\",\"arrowhead\":0,\"arrowwidth\":1},\"autotypenumbers\":\"strict\",\"coloraxis\":{\"colorbar\":{\"outlinewidth\":0,\"ticks\":\"\"}},\"colorscale\":{\"diverging\":[[0,\"#8e0152\"],[0.1,\"#c51b7d\"],[0.2,\"#de77ae\"],[0.3,\"#f1b6da\"],[0.4,\"#fde0ef\"],[0.5,\"#f7f7f7\"],[0.6,\"#e6f5d0\"],[0.7,\"#b8e186\"],[0.8,\"#7fbc41\"],[0.9,\"#4d9221\"],[1,\"#276419\"]],\"sequential\":[[0.0,\"#0d0887\"],[0.1111111111111111,\"#46039f\"],[0.2222222222222222,\"#7201a8\"],[0.3333333333333333,\"#9c179e\"],[0.4444444444444444,\"#bd3786\"],[0.5555555555555556,\"#d8576b\"],[0.6666666666666666,\"#ed7953\"],[0.7777777777777778,\"#fb9f3a\"],[0.8888888888888888,\"#fdca26\"],[1.0,\"#f0f921\"]],\"sequentialminus\":[[0.0,\"#0d0887\"],[0.1111111111111111,\"#46039f\"],[0.2222222222222222,\"#7201a8\"],[0.3333333333333333,\"#9c179e\"],[0.4444444444444444,\"#bd3786\"],[0.5555555555555556,\"#d8576b\"],[0.6666666666666666,\"#ed7953\"],[0.7777777777777778,\"#fb9f3a\"],[0.8888888888888888,\"#fdca26\"],[1.0,\"#f0f921\"]]},\"colorway\":[\"#636efa\",\"#EF553B\",\"#00cc96\",\"#ab63fa\",\"#FFA15A\",\"#19d3f3\",\"#FF6692\",\"#B6E880\",\"#FF97FF\",\"#FECB52\"],\"font\":{\"color\":\"#2a3f5f\"},\"geo\":{\"bgcolor\":\"white\",\"lakecolor\":\"white\",\"landcolor\":\"#E5ECF6\",\"showlakes\":true,\"showland\":true,\"subunitcolor\":\"white\"},\"hoverlabel\":{\"align\":\"left\"},\"hovermode\":\"closest\",\"mapbox\":{\"style\":\"light\"},\"paper_bgcolor\":\"white\",\"plot_bgcolor\":\"#E5ECF6\",\"polar\":{\"angularaxis\":{\"gridcolor\":\"white\",\"linecolor\":\"white\",\"ticks\":\"\"},\"bgcolor\":\"#E5ECF6\",\"radialaxis\":{\"gridcolor\":\"white\",\"linecolor\":\"white\",\"ticks\":\"\"}},\"scene\":{\"xaxis\":{\"backgroundcolor\":\"#E5ECF6\",\"gridcolor\":\"white\",\"gridwidth\":2,\"linecolor\":\"white\",\"showbackground\":true,\"ticks\":\"\",\"zerolinecolor\":\"white\"},\"yaxis\":{\"backgroundcolor\":\"#E5ECF6\",\"gridcolor\":\"white\",\"gridwidth\":2,\"linecolor\":\"white\",\"showbackground\":true,\"ticks\":\"\",\"zerolinecolor\":\"white\"},\"zaxis\":{\"backgroundcolor\":\"#E5ECF6\",\"gridcolor\":\"white\",\"gridwidth\":2,\"linecolor\":\"white\",\"showbackground\":true,\"ticks\":\"\",\"zerolinecolor\":\"white\"}},\"shapedefaults\":{\"line\":{\"color\":\"#2a3f5f\"}},\"ternary\":{\"aaxis\":{\"gridcolor\":\"white\",\"linecolor\":\"white\",\"ticks\":\"\"},\"baxis\":{\"gridcolor\":\"white\",\"linecolor\":\"white\",\"ticks\":\"\"},\"bgcolor\":\"#E5ECF6\",\"caxis\":{\"gridcolor\":\"white\",\"linecolor\":\"white\",\"ticks\":\"\"}},\"title\":{\"x\":0.05},\"xaxis\":{\"automargin\":true,\"gridcolor\":\"white\",\"linecolor\":\"white\",\"ticks\":\"\",\"title\":{\"standoff\":15},\"zerolinecolor\":\"white\",\"zerolinewidth\":2},\"yaxis\":{\"automargin\":true,\"gridcolor\":\"white\",\"linecolor\":\"white\",\"ticks\":\"\",\"title\":{\"standoff\":15},\"zerolinecolor\":\"white\",\"zerolinewidth\":2}}},\"title\":{\"text\":\"Percentage of Age Groups for Longer Work With Bank\"}},                        {\"responsive\": true}                    ).then(function(){\n",
       "                            \n",
       "var gd = document.getElementById('8d824ca1-1a1a-41f3-aa70-c7df9e3ef866');\n",
       "var x = new MutationObserver(function (mutations, observer) {{\n",
       "        var display = window.getComputedStyle(gd).display;\n",
       "        if (!display || display === 'none') {{\n",
       "            console.log([gd, 'removed!']);\n",
       "            Plotly.purge(gd);\n",
       "            observer.disconnect();\n",
       "        }}\n",
       "}});\n",
       "\n",
       "// Listen for the removal of the full notebook cells\n",
       "var notebookContainer = gd.closest('#notebook-container');\n",
       "if (notebookContainer) {{\n",
       "    x.observe(notebookContainer, {childList: true});\n",
       "}}\n",
       "\n",
       "// Listen for the clearing of the current output cell\n",
       "var outputEl = gd.closest('.output');\n",
       "if (outputEl) {{\n",
       "    x.observe(outputEl, {childList: true});\n",
       "}}\n",
       "\n",
       "                        })                };                });            </script>        </div>"
      ]
     },
     "metadata": {},
     "output_type": "display_data"
    }
   ],
   "source": [
    "pie_list=[k,l,m,n,o,p]\n",
    "labels=age_list\n",
    "fig={\n",
    "    \"data\":[\n",
    "        {\n",
    "            \"values\":pie_list,\n",
    "            \"labels\":labels,\n",
    "            \"domain\": {\"x\": [.2, 1]},\n",
    "            \"name\": \"Age Groups-Exit Rate\",\n",
    "            \"hoverinfo\":\"label+percent+name\",\n",
    "            \"hole\": .4,\n",
    "            \"type\": \"pie\"\n",
    "        },],\n",
    "    \"layout\":{\n",
    "        \"title\":\"Percentage of Age Groups for Longer Work With Bank\",\n",
    "        \"annotations\":[\n",
    "            {\n",
    "                \"font\":{\"size\":20},\n",
    "                \"showarrow\": False,\n",
    "                \"text\": \"Age Group-Exited\",\n",
    "                \"x\": 0.60,\n",
    "                \"y\": 0.50\n",
    "            },\n",
    "        ]\n",
    "    }  \n",
    "}\n",
    "iplot(fig)"
   ]
  },
  {
   "cell_type": "code",
   "execution_count": 84,
   "id": "542bb469",
   "metadata": {},
   "outputs": [],
   "source": [
    "df = data.copy()\n",
    "age_group_data = [None] * len(df['Age'])\n",
    "for i in range(len(df['Age'])):\n",
    "    if df['Age'][i] < 30:\n",
    "        age_group_data[i] = 'Young'\n",
    "    elif df['Age'][i] >=30 and df['Age'][i] < 40:\n",
    "        age_group_data[i] = 'Young-Adults'\n",
    "    elif df['Age'][i] >=40 and df['Age'][i] < 50:\n",
    "        age_group_data[i] = 'Adults'\n",
    "    elif df['Age'][i] >=50 and df['Age'][i] < 60:\n",
    "        age_group_data[i] = 'Elderly-Adults'\n",
    "    elif df['Age'][i] >=60 and df['Age'][i] < 74:\n",
    "        age_group_data[i] = 'Old'\n",
    "    else:\n",
    "        age_group_data[i] = 'Very-Old'\n",
    "\n",
    "df['age_group'] = age_group_data"
   ]
  },
  {
   "cell_type": "code",
   "execution_count": 85,
   "id": "71fc5957",
   "metadata": {},
   "outputs": [
    {
     "name": "stderr",
     "output_type": "stream",
     "text": [
      "C:\\Users\\Ravish\\anaconda3\\lib\\site-packages\\seaborn\\categorical.py:3717: UserWarning:\n",
      "\n",
      "The `factorplot` function has been renamed to `catplot`. The original name will be removed in a future release. Please update your code. Note that the default `kind` in `factorplot` (`'point'`) has changed `'strip'` in `catplot`.\n",
      "\n"
     ]
    },
    {
     "data": {
      "image/png": "[encoded data removed]",
      "text/plain": [
       "<Figure size 500x500 with 1 Axes>"
      ]
     },
     "metadata": {},
     "output_type": "display_data"
    }
   ],
   "source": [
    "g = sns.factorplot(x = \"age_group\", y = \"Exited\", data = df, kind = \"bar\")\n",
    "plt.xticks(rotation=45)\n",
    "g.set_ylabels(\"Exited\")\n",
    "plt.show()"
   ]
  },
  {
   "cell_type": "markdown",
   "id": "dbb59f80",
   "metadata": {},
   "source": [
    "#### Function to handle null Data"
   ]
  },
  {
   "cell_type": "code",
   "execution_count": 111,
   "id": "54e7c6b4",
   "metadata": {},
   "outputs": [],
   "source": [
    "def handleNull(data):\n",
    "    if not data.isnull().sum().any():\n",
    "        print(\"DATA is not having null values\")\n",
    "    else: \n",
    "        data.dropna(inplace=True,axis=1)"
   ]
  },
  {
   "cell_type": "code",
   "execution_count": 112,
   "id": "cb046d25",
   "metadata": {},
   "outputs": [
    {
     "name": "stdout",
     "output_type": "stream",
     "text": [
      "DATA is not having null values\n"
     ]
    }
   ],
   "source": [
    "handleNull(data)"
   ]
  },
  {
   "cell_type": "code",
   "execution_count": 113,
   "id": "40d37529",
   "metadata": {},
   "outputs": [],
   "source": [
    "data.drop(columns=['RowNumber','CustomerId','Surname'],axis=1,inplace=True)"
   ]
  },
  {
   "cell_type": "code",
   "execution_count": null,
   "id": "dbfbb015",
   "metadata": {},
   "outputs": [],
   "source": []
  },
  {
   "cell_type": "code",
   "execution_count": null,
   "id": "d4a40b91",
   "metadata": {},
   "outputs": [],
   "source": []
  },
  {
   "cell_type": "code",
   "execution_count": null,
   "id": "8ca4d7af",
   "metadata": {},
   "outputs": [],
   "source": []
  },
  {
   "cell_type": "code",
   "execution_count": 114,
   "id": "b5719e60",
   "metadata": {},
   "outputs": [
    {
     "data": {
      "text/plain": [
       "array(['France', 'Spain', 'Germany'], dtype=object)"
      ]
     },
     "execution_count": 114,
     "metadata": {},
     "output_type": "execute_result"
    }
   ],
   "source": [
    "data['Geography'].unique()"
   ]
  },
  {
   "cell_type": "code",
   "execution_count": 115,
   "id": "520846ae",
   "metadata": {},
   "outputs": [],
   "source": [
    "data=pd.get_dummies(data,drop_first=True)"
   ]
  },
  {
   "cell_type": "code",
   "execution_count": 116,
   "id": "d7fbfe02",
   "metadata": {},
   "outputs": [
    {
     "data": {
      "text/html": [
       "<div>\n",
       "<style scoped>\n",
       "    .dataframe tbody tr th:only-of-type {\n",
       "        vertical-align: middle;\n",
       "    }\n",
       "\n",
       "    .dataframe tbody tr th {\n",
       "        vertical-align: top;\n",
       "    }\n",
       "\n",
       "    .dataframe thead th {\n",
       "        text-align: right;\n",
       "    }\n",
       "</style>\n",
       "<table border=\"1\" class=\"dataframe\">\n",
       "  <thead>\n",
       "    <tr style=\"text-align: right;\">\n",
       "      <th></th>\n",
       "      <th>CreditScore</th>\n",
       "      <th>Age</th>\n",
       "      <th>Tenure</th>\n",
       "      <th>Balance</th>\n",
       "      <th>NumOfProducts</th>\n",
       "      <th>HasCrCard</th>\n",
       "      <th>IsActiveMember</th>\n",
       "      <th>EstimatedSalary</th>\n",
       "      <th>Exited</th>\n",
       "      <th>Geography_Germany</th>\n",
       "      <th>Geography_Spain</th>\n",
       "      <th>Gender_Male</th>\n",
       "    </tr>\n",
       "  </thead>\n",
       "  <tbody>\n",
       "    <tr>\n",
       "      <th>0</th>\n",
       "      <td>619</td>\n",
       "      <td>42</td>\n",
       "      <td>2</td>\n",
       "      <td>0.00</td>\n",
       "      <td>1</td>\n",
       "      <td>1</td>\n",
       "      <td>1</td>\n",
       "      <td>101348.88</td>\n",
       "      <td>1</td>\n",
       "      <td>0</td>\n",
       "      <td>0</td>\n",
       "      <td>0</td>\n",
       "    </tr>\n",
       "    <tr>\n",
       "      <th>1</th>\n",
       "      <td>608</td>\n",
       "      <td>41</td>\n",
       "      <td>1</td>\n",
       "      <td>83807.86</td>\n",
       "      <td>1</td>\n",
       "      <td>0</td>\n",
       "      <td>1</td>\n",
       "      <td>112542.58</td>\n",
       "      <td>0</td>\n",
       "      <td>0</td>\n",
       "      <td>1</td>\n",
       "      <td>0</td>\n",
       "    </tr>\n",
       "    <tr>\n",
       "      <th>2</th>\n",
       "      <td>502</td>\n",
       "      <td>42</td>\n",
       "      <td>8</td>\n",
       "      <td>159660.80</td>\n",
       "      <td>3</td>\n",
       "      <td>1</td>\n",
       "      <td>0</td>\n",
       "      <td>113931.57</td>\n",
       "      <td>1</td>\n",
       "      <td>0</td>\n",
       "      <td>0</td>\n",
       "      <td>0</td>\n",
       "    </tr>\n",
       "    <tr>\n",
       "      <th>3</th>\n",
       "      <td>699</td>\n",
       "      <td>39</td>\n",
       "      <td>1</td>\n",
       "      <td>0.00</td>\n",
       "      <td>2</td>\n",
       "      <td>0</td>\n",
       "      <td>0</td>\n",
       "      <td>93826.63</td>\n",
       "      <td>0</td>\n",
       "      <td>0</td>\n",
       "      <td>0</td>\n",
       "      <td>0</td>\n",
       "    </tr>\n",
       "    <tr>\n",
       "      <th>4</th>\n",
       "      <td>850</td>\n",
       "      <td>43</td>\n",
       "      <td>2</td>\n",
       "      <td>125510.82</td>\n",
       "      <td>1</td>\n",
       "      <td>1</td>\n",
       "      <td>1</td>\n",
       "      <td>79084.10</td>\n",
       "      <td>0</td>\n",
       "      <td>0</td>\n",
       "      <td>1</td>\n",
       "      <td>0</td>\n",
       "    </tr>\n",
       "  </tbody>\n",
       "</table>\n",
       "</div>"
      ],
      "text/plain": [
       "   CreditScore  Age  Tenure    Balance  NumOfProducts  HasCrCard  \\\n",
       "0          619   42       2       0.00              1          1   \n",
       "1          608   41       1   83807.86              1          0   \n",
       "2          502   42       8  159660.80              3          1   \n",
       "3          699   39       1       0.00              2          0   \n",
       "4          850   43       2  125510.82              1          1   \n",
       "\n",
       "   IsActiveMember  EstimatedSalary  Exited  Geography_Germany  \\\n",
       "0               1        101348.88       1                  0   \n",
       "1               1        112542.58       0                  0   \n",
       "2               0        113931.57       1                  0   \n",
       "3               0         93826.63       0                  0   \n",
       "4               1         79084.10       0                  0   \n",
       "\n",
       "   Geography_Spain  Gender_Male  \n",
       "0                0            0  \n",
       "1                1            0  \n",
       "2                0            0  \n",
       "3                0            0  \n",
       "4                1            0  "
      ]
     },
     "execution_count": 116,
     "metadata": {},
     "output_type": "execute_result"
    }
   ],
   "source": [
    "data.head()"
   ]
  },
  {
   "cell_type": "code",
   "execution_count": 117,
   "id": "36f797df",
   "metadata": {},
   "outputs": [
    {
     "data": {
      "text/plain": [
       "0    7963\n",
       "1    2037\n",
       "Name: Exited, dtype: int64"
      ]
     },
     "execution_count": 117,
     "metadata": {},
     "output_type": "execute_result"
    }
   ],
   "source": [
    "data['Exited'].value_counts()"
   ]
  },
  {
   "cell_type": "code",
   "execution_count": 118,
   "id": "6129f04d",
   "metadata": {},
   "outputs": [
    {
     "name": "stderr",
     "output_type": "stream",
     "text": [
      "C:\\Users\\Ravish\\anaconda3\\lib\\site-packages\\seaborn\\_decorators.py:36: FutureWarning:\n",
      "\n",
      "Pass the following variable as a keyword arg: x. From version 0.12, the only valid positional argument will be `data`, and passing other arguments without an explicit keyword will result in an error or misinterpretation.\n",
      "\n"
     ]
    },
    {
     "data": {
      "text/plain": [
       "<Axes: xlabel='Exited', ylabel='count'>"
      ]
     },
     "execution_count": 118,
     "metadata": {},
     "output_type": "execute_result"
    },
    {
     "data": {
      "image/png": "[encoded data removed]",
      "text/plain": [
       "<Figure size 640x480 with 1 Axes>"
      ]
     },
     "metadata": {},
     "output_type": "display_data"
    }
   ],
   "source": [
    "sns.countplot(data['Exited'])"
   ]
  },
  {
   "cell_type": "markdown",
   "id": "e9268908",
   "metadata": {},
   "source": [
    "#### here the our target variable having much inbalancing "
   ]
  },
  {
   "cell_type": "markdown",
   "id": "0e2f9109",
   "metadata": {},
   "source": [
    "###  Generate sample with target value 1 to handle imbalancing of data for output\n"
   ]
  },
  {
   "cell_type": "code",
   "execution_count": 119,
   "id": "5938f014",
   "metadata": {},
   "outputs": [],
   "source": [
    "#pip install imblearn"
   ]
  },
  {
   "cell_type": "code",
   "execution_count": 120,
   "id": "192bc4c9",
   "metadata": {},
   "outputs": [],
   "source": [
    "X=data.drop('Exited',axis=1)\n",
    "y=data['Exited']"
   ]
  },
  {
   "cell_type": "code",
   "execution_count": null,
   "id": "55d64cbe",
   "metadata": {},
   "outputs": [],
   "source": []
  },
  {
   "cell_type": "code",
   "execution_count": 121,
   "id": "b639d9a1",
   "metadata": {},
   "outputs": [],
   "source": [
    "X_sample,y_sample=SMOTE().fit_resample(X,y)"
   ]
  },
  {
   "cell_type": "code",
   "execution_count": 122,
   "id": "1bd95477",
   "metadata": {},
   "outputs": [
    {
     "data": {
      "text/plain": [
       "1    7963\n",
       "0    7963\n",
       "Name: Exited, dtype: int64"
      ]
     },
     "execution_count": 122,
     "metadata": {},
     "output_type": "execute_result"
    }
   ],
   "source": [
    "y_sample.value_counts()"
   ]
  },
  {
   "cell_type": "code",
   "execution_count": 167,
   "id": "2366ffa6",
   "metadata": {},
   "outputs": [
    {
     "data": {
      "text/plain": [
       "Index(['CreditScore', 'Age', 'Tenure', 'Balance', 'NumOfProducts', 'HasCrCard',\n",
       "       'IsActiveMember', 'EstimatedSalary', 'Exited', 'Geography_Germany',\n",
       "       'Geography_Spain', 'Gender_Male'],\n",
       "      dtype='object')"
      ]
     },
     "execution_count": 167,
     "metadata": {},
     "output_type": "execute_result"
    }
   ],
   "source": [
    "data.columns"
   ]
  },
  {
   "cell_type": "markdown",
   "id": "ec754256",
   "metadata": {},
   "source": [
    "### Splitting Data after sampling\n"
   ]
  },
  {
   "cell_type": "code",
   "execution_count": 124,
   "id": "807292a5",
   "metadata": {},
   "outputs": [],
   "source": [
    "X_train,X_test,y_train,y_test=train_test_split(X_sample,y_sample,test_size=0.25,random_state=20)"
   ]
  },
  {
   "cell_type": "code",
   "execution_count": 125,
   "id": "db33856d",
   "metadata": {},
   "outputs": [],
   "source": [
    "scaler=StandardScaler()"
   ]
  },
  {
   "cell_type": "code",
   "execution_count": 126,
   "id": "9aa14ec2",
   "metadata": {},
   "outputs": [],
   "source": [
    "X_train=scaler.fit_transform(X_train)"
   ]
  },
  {
   "cell_type": "code",
   "execution_count": 127,
   "id": "9cc25ebb",
   "metadata": {},
   "outputs": [],
   "source": [
    "X_test=scaler.transform(X_test)"
   ]
  },
  {
   "cell_type": "code",
   "execution_count": null,
   "id": "313680f5",
   "metadata": {},
   "outputs": [],
   "source": []
  },
  {
   "cell_type": "markdown",
   "id": "260b3d8f",
   "metadata": {},
   "source": [
    "### Logistic Regression"
   ]
  },
  {
   "cell_type": "code",
   "execution_count": 26,
   "id": "0ffd7004",
   "metadata": {},
   "outputs": [],
   "source": []
  },
  {
   "cell_type": "code",
   "execution_count": 128,
   "id": "18195e46",
   "metadata": {},
   "outputs": [],
   "source": [
    "LR=LogisticRegression()"
   ]
  },
  {
   "cell_type": "code",
   "execution_count": 129,
   "id": "afe09f7a",
   "metadata": {},
   "outputs": [
    {
     "data": {
      "text/plain": [
       "LogisticRegression()"
      ]
     },
     "execution_count": 129,
     "metadata": {},
     "output_type": "execute_result"
    }
   ],
   "source": [
    "LR.fit(X_train,y_train)"
   ]
  },
  {
   "cell_type": "code",
   "execution_count": 130,
   "id": "218e4c44",
   "metadata": {},
   "outputs": [],
   "source": [
    "y_predL=LR.predict(X_test)"
   ]
  },
  {
   "cell_type": "code",
   "execution_count": 131,
   "id": "df837f33",
   "metadata": {},
   "outputs": [
    {
     "name": "stdout",
     "output_type": "stream",
     "text": [
      "accuracy Score : 0.7802611752887996\n",
      "precision Score : 0.7800498753117207\n",
      "recall Score : 0.7827827827827828\n",
      "f1 Score : 0.7814139395453409\n"
     ]
    }
   ],
   "source": [
    "print(\"accuracy Score :\",accuracy_score(y_test,y_predL))\n",
    "print(\"precision Score :\",precision_score(y_test,y_predL))\n",
    "print(\"recall Score :\",recall_score(y_test,y_predL))\n",
    "print(\"f1 Score :\",f1_score(y_test,y_predL))"
   ]
  },
  {
   "cell_type": "code",
   "execution_count": 178,
   "id": "8300806e",
   "metadata": {},
   "outputs": [
    {
     "data": {
      "text/plain": [
       "array([[1543,  441],\n",
       "       [ 434, 1564]], dtype=int64)"
      ]
     },
     "execution_count": 178,
     "metadata": {},
     "output_type": "execute_result"
    }
   ],
   "source": [
    "CMLOGISTIC = confusion_matrix(y_test,y_predL)\n",
    "CMLOGISTIC"
   ]
  },
  {
   "cell_type": "code",
   "execution_count": 179,
   "id": "a9e17022",
   "metadata": {},
   "outputs": [
    {
     "name": "stdout",
     "output_type": "stream",
     "text": [
      "              precision    recall  f1-score   support\n",
      "\n",
      "           0       0.78      0.78      0.78      1984\n",
      "           1       0.78      0.78      0.78      1998\n",
      "\n",
      "    accuracy                           0.78      3982\n",
      "   macro avg       0.78      0.78      0.78      3982\n",
      "weighted avg       0.78      0.78      0.78      3982\n",
      "\n"
     ]
    }
   ],
   "source": [
    "\n",
    "print(classification_report(y_test,y_predL))"
   ]
  },
  {
   "cell_type": "markdown",
   "id": "862f83c9",
   "metadata": {},
   "source": [
    "### SVC"
   ]
  },
  {
   "cell_type": "code",
   "execution_count": 136,
   "id": "4d19b4ba",
   "metadata": {},
   "outputs": [],
   "source": [
    "svm=SVC()"
   ]
  },
  {
   "cell_type": "code",
   "execution_count": 137,
   "id": "f3ae2c4f",
   "metadata": {},
   "outputs": [
    {
     "data": {
      "text/plain": [
       "SVC()"
      ]
     },
     "execution_count": 137,
     "metadata": {},
     "output_type": "execute_result"
    }
   ],
   "source": [
    "svm.fit(X_train,y_train)"
   ]
  },
  {
   "cell_type": "code",
   "execution_count": 138,
   "id": "07b9756a",
   "metadata": {},
   "outputs": [],
   "source": [
    "y_predS=svm.predict(X_test)"
   ]
  },
  {
   "cell_type": "code",
   "execution_count": 139,
   "id": "08591205",
   "metadata": {},
   "outputs": [
    {
     "name": "stdout",
     "output_type": "stream",
     "text": [
      "accuracy Score : 0.8352586639879458\n",
      "precision Score : 0.8473084886128365\n",
      "recall Score : 0.8193193193193193\n",
      "f1 Score : 0.8330788804071247\n"
     ]
    }
   ],
   "source": [
    "print(\"accuracy Score :\",accuracy_score(y_test,y_predS))\n",
    "print(\"precision Score :\",precision_score(y_test,y_predS))\n",
    "print(\"recall Score :\",recall_score(y_test,y_predS))\n",
    "print(\"f1 Score :\",f1_score(y_test,y_predS))"
   ]
  },
  {
   "cell_type": "code",
   "execution_count": 180,
   "id": "43a6e8ad",
   "metadata": {},
   "outputs": [
    {
     "data": {
      "text/plain": [
       "array([[1689,  295],\n",
       "       [ 361, 1637]], dtype=int64)"
      ]
     },
     "execution_count": 180,
     "metadata": {},
     "output_type": "execute_result"
    }
   ],
   "source": [
    "CMSVC = confusion_matrix(y_test,y_predS)\n",
    "CMSVC"
   ]
  },
  {
   "cell_type": "code",
   "execution_count": 181,
   "id": "b0c780f3",
   "metadata": {},
   "outputs": [
    {
     "name": "stdout",
     "output_type": "stream",
     "text": [
      "              precision    recall  f1-score   support\n",
      "\n",
      "           0       0.82      0.85      0.84      1984\n",
      "           1       0.85      0.82      0.83      1998\n",
      "\n",
      "    accuracy                           0.84      3982\n",
      "   macro avg       0.84      0.84      0.84      3982\n",
      "weighted avg       0.84      0.84      0.84      3982\n",
      "\n"
     ]
    }
   ],
   "source": [
    "\n",
    "print(classification_report(y_test,y_predS))"
   ]
  },
  {
   "cell_type": "markdown",
   "id": "5ce03ce6",
   "metadata": {},
   "source": [
    "### KNN"
   ]
  },
  {
   "cell_type": "code",
   "execution_count": 141,
   "id": "168d73b8",
   "metadata": {},
   "outputs": [],
   "source": [
    "knn=KNeighborsClassifier()"
   ]
  },
  {
   "cell_type": "code",
   "execution_count": 142,
   "id": "de0a4a05",
   "metadata": {},
   "outputs": [
    {
     "data": {
      "text/plain": [
       "KNeighborsClassifier()"
      ]
     },
     "execution_count": 142,
     "metadata": {},
     "output_type": "execute_result"
    }
   ],
   "source": [
    "knn.fit(X_train,y_train)"
   ]
  },
  {
   "cell_type": "code",
   "execution_count": 143,
   "id": "5bf9628f",
   "metadata": {},
   "outputs": [
    {
     "name": "stderr",
     "output_type": "stream",
     "text": [
      "C:\\Users\\Ravish\\anaconda3\\lib\\site-packages\\sklearn\\neighbors\\_classification.py:228: FutureWarning:\n",
      "\n",
      "Unlike other reduction functions (e.g. `skew`, `kurtosis`), the default behavior of `mode` typically preserves the axis it acts along. In SciPy 1.11.0, this behavior will change: the default value of `keepdims` will become False, the `axis` over which the statistic is taken will be eliminated, and the value None will no longer be accepted. Set `keepdims` to True or False to avoid this warning.\n",
      "\n"
     ]
    }
   ],
   "source": [
    "y_predK=knn.predict(X_test)"
   ]
  },
  {
   "cell_type": "code",
   "execution_count": 144,
   "id": "d6f895be",
   "metadata": {},
   "outputs": [
    {
     "name": "stdout",
     "output_type": "stream",
     "text": [
      "accuracy Score : 0.8141637368156706\n",
      "precision Score : 0.80712890625\n",
      "recall Score : 0.8273273273273273\n",
      "f1 Score : 0.8171033119130003\n"
     ]
    }
   ],
   "source": [
    "print(\"accuracy Score :\",accuracy_score(y_test,y_predK))\n",
    "print(\"precision Score :\",precision_score(y_test,y_predK))\n",
    "print(\"recall Score :\",recall_score(y_test,y_predK))\n",
    "print(\"f1 Score :\",f1_score(y_test,y_predK))"
   ]
  },
  {
   "cell_type": "code",
   "execution_count": 182,
   "id": "c07b5eaa",
   "metadata": {},
   "outputs": [
    {
     "data": {
      "text/plain": [
       "array([[1589,  395],\n",
       "       [ 345, 1653]], dtype=int64)"
      ]
     },
     "execution_count": 182,
     "metadata": {},
     "output_type": "execute_result"
    }
   ],
   "source": [
    "CMKNN = confusion_matrix(y_test,y_predK)\n",
    "CMKNN"
   ]
  },
  {
   "cell_type": "code",
   "execution_count": 183,
   "id": "69c0a511",
   "metadata": {},
   "outputs": [
    {
     "name": "stdout",
     "output_type": "stream",
     "text": [
      "              precision    recall  f1-score   support\n",
      "\n",
      "           0       0.82      0.80      0.81      1984\n",
      "           1       0.81      0.83      0.82      1998\n",
      "\n",
      "    accuracy                           0.81      3982\n",
      "   macro avg       0.81      0.81      0.81      3982\n",
      "weighted avg       0.81      0.81      0.81      3982\n",
      "\n"
     ]
    }
   ],
   "source": [
    "\n",
    "print(classification_report(y_test,y_predK))"
   ]
  },
  {
   "cell_type": "markdown",
   "id": "a630ae73",
   "metadata": {},
   "source": [
    "### DT"
   ]
  },
  {
   "cell_type": "code",
   "execution_count": 145,
   "id": "50396487",
   "metadata": {},
   "outputs": [],
   "source": [
    "DT=DecisionTreeClassifier()"
   ]
  },
  {
   "cell_type": "code",
   "execution_count": 146,
   "id": "849d0dbd",
   "metadata": {},
   "outputs": [
    {
     "data": {
      "text/plain": [
       "DecisionTreeClassifier()"
      ]
     },
     "execution_count": 146,
     "metadata": {},
     "output_type": "execute_result"
    }
   ],
   "source": [
    "DT.fit(X_train,y_train)"
   ]
  },
  {
   "cell_type": "code",
   "execution_count": 147,
   "id": "05e80403",
   "metadata": {},
   "outputs": [],
   "source": [
    "y_predD=DT.predict(X_test)"
   ]
  },
  {
   "cell_type": "code",
   "execution_count": 148,
   "id": "8c1c3ac2",
   "metadata": {},
   "outputs": [
    {
     "name": "stdout",
     "output_type": "stream",
     "text": [
      "accuracy Score : 0.7983425414364641\n",
      "precision Score : 0.7887868535524408\n",
      "recall Score : 0.8168168168168168\n",
      "f1 Score : 0.8025571674452914\n"
     ]
    }
   ],
   "source": [
    "print(\"accuracy Score :\",accuracy_score(y_test,y_predD))\n",
    "print(\"precision Score :\",precision_score(y_test,y_predD))\n",
    "print(\"recall Score :\",recall_score(y_test,y_predD))\n",
    "print(\"f1 Score :\",f1_score(y_test,y_predD))"
   ]
  },
  {
   "cell_type": "code",
   "execution_count": 184,
   "id": "e72b5d7d",
   "metadata": {},
   "outputs": [
    {
     "data": {
      "text/plain": [
       "array([[1547,  437],\n",
       "       [ 366, 1632]], dtype=int64)"
      ]
     },
     "execution_count": 184,
     "metadata": {},
     "output_type": "execute_result"
    }
   ],
   "source": [
    "CMDT = confusion_matrix(y_test,y_predD)\n",
    "CMDT"
   ]
  },
  {
   "cell_type": "code",
   "execution_count": 185,
   "id": "168f4b8f",
   "metadata": {},
   "outputs": [
    {
     "name": "stdout",
     "output_type": "stream",
     "text": [
      "              precision    recall  f1-score   support\n",
      "\n",
      "           0       0.81      0.78      0.79      1984\n",
      "           1       0.79      0.82      0.80      1998\n",
      "\n",
      "    accuracy                           0.80      3982\n",
      "   macro avg       0.80      0.80      0.80      3982\n",
      "weighted avg       0.80      0.80      0.80      3982\n",
      "\n"
     ]
    }
   ],
   "source": [
    "print(classification_report(y_test,y_predD))"
   ]
  },
  {
   "cell_type": "markdown",
   "id": "d6140ddf",
   "metadata": {},
   "source": [
    "### RF"
   ]
  },
  {
   "cell_type": "code",
   "execution_count": 149,
   "id": "f394447f",
   "metadata": {},
   "outputs": [],
   "source": [
    "RF=RandomForestClassifier()"
   ]
  },
  {
   "cell_type": "code",
   "execution_count": 150,
   "id": "97020f44",
   "metadata": {},
   "outputs": [
    {
     "data": {
      "text/plain": [
       "RandomForestClassifier()"
      ]
     },
     "execution_count": 150,
     "metadata": {},
     "output_type": "execute_result"
    }
   ],
   "source": [
    "RF.fit(X_train,y_train)"
   ]
  },
  {
   "cell_type": "code",
   "execution_count": 151,
   "id": "7658c95a",
   "metadata": {},
   "outputs": [],
   "source": [
    "y_predR=RF.predict(X_test)"
   ]
  },
  {
   "cell_type": "code",
   "execution_count": 152,
   "id": "5d06e1d3",
   "metadata": {},
   "outputs": [
    {
     "name": "stdout",
     "output_type": "stream",
     "text": [
      "accuracy Score : 0.8613761928679056\n",
      "precision Score : 0.865520728008089\n",
      "recall Score : 0.8568568568568569\n",
      "f1 Score : 0.8611670020120725\n"
     ]
    }
   ],
   "source": [
    "print(\"accuracy Score :\",accuracy_score(y_test,y_predR))\n",
    "print(\"precision Score :\",precision_score(y_test,y_predR))\n",
    "print(\"recall Score :\",recall_score(y_test,y_predR))\n",
    "print(\"f1 Score :\",f1_score(y_test,y_predR))"
   ]
  },
  {
   "cell_type": "code",
   "execution_count": 186,
   "id": "50dba9f9",
   "metadata": {},
   "outputs": [
    {
     "data": {
      "text/plain": [
       "array([[1718,  266],\n",
       "       [ 286, 1712]], dtype=int64)"
      ]
     },
     "execution_count": 186,
     "metadata": {},
     "output_type": "execute_result"
    }
   ],
   "source": [
    "CMRF = confusion_matrix(y_test,y_predR)\n",
    "CMRF"
   ]
  },
  {
   "cell_type": "code",
   "execution_count": 187,
   "id": "a3551541",
   "metadata": {},
   "outputs": [
    {
     "name": "stdout",
     "output_type": "stream",
     "text": [
      "              precision    recall  f1-score   support\n",
      "\n",
      "           0       0.86      0.87      0.86      1984\n",
      "           1       0.87      0.86      0.86      1998\n",
      "\n",
      "    accuracy                           0.86      3982\n",
      "   macro avg       0.86      0.86      0.86      3982\n",
      "weighted avg       0.86      0.86      0.86      3982\n",
      "\n"
     ]
    }
   ],
   "source": [
    "print(classification_report(y_test,y_predR))"
   ]
  },
  {
   "cell_type": "markdown",
   "id": "dd7a991a",
   "metadata": {},
   "source": [
    "### GB"
   ]
  },
  {
   "cell_type": "code",
   "execution_count": 153,
   "id": "786f41f6",
   "metadata": {},
   "outputs": [],
   "source": [
    "GB=GradientBoostingClassifier()"
   ]
  },
  {
   "cell_type": "code",
   "execution_count": 154,
   "id": "d3fdfa49",
   "metadata": {},
   "outputs": [
    {
     "data": {
      "text/plain": [
       "GradientBoostingClassifier()"
      ]
     },
     "execution_count": 154,
     "metadata": {},
     "output_type": "execute_result"
    }
   ],
   "source": [
    "GB.fit(X_train,y_train)"
   ]
  },
  {
   "cell_type": "code",
   "execution_count": 155,
   "id": "f3045f13",
   "metadata": {},
   "outputs": [],
   "source": [
    "y_predG=GB.predict(X_test)"
   ]
  },
  {
   "cell_type": "code",
   "execution_count": 156,
   "id": "903e9a29",
   "metadata": {},
   "outputs": [
    {
     "name": "stdout",
     "output_type": "stream",
     "text": [
      "accuracy Score : 0.8335007533902562\n",
      "precision Score : 0.8471138845553822\n",
      "recall Score : 0.8153153153153153\n",
      "f1 Score : 0.8309104820198929\n"
     ]
    }
   ],
   "source": [
    "print(\"accuracy Score :\",accuracy_score(y_test,y_predG))\n",
    "print(\"precision Score :\",precision_score(y_test,y_predG))\n",
    "print(\"recall Score :\",recall_score(y_test,y_predG))\n",
    "print(\"f1 Score :\",f1_score(y_test,y_predG))"
   ]
  },
  {
   "cell_type": "code",
   "execution_count": 188,
   "id": "363f9630",
   "metadata": {},
   "outputs": [
    {
     "data": {
      "text/plain": [
       "array([[1690,  294],\n",
       "       [ 369, 1629]], dtype=int64)"
      ]
     },
     "execution_count": 188,
     "metadata": {},
     "output_type": "execute_result"
    }
   ],
   "source": [
    "CMGB = confusion_matrix(y_test,y_predG)\n",
    "CMGB"
   ]
  },
  {
   "cell_type": "code",
   "execution_count": 189,
   "id": "1061efbf",
   "metadata": {},
   "outputs": [
    {
     "name": "stdout",
     "output_type": "stream",
     "text": [
      "              precision    recall  f1-score   support\n",
      "\n",
      "           0       0.82      0.85      0.84      1984\n",
      "           1       0.85      0.82      0.83      1998\n",
      "\n",
      "    accuracy                           0.83      3982\n",
      "   macro avg       0.83      0.83      0.83      3982\n",
      "weighted avg       0.83      0.83      0.83      3982\n",
      "\n"
     ]
    }
   ],
   "source": [
    "print(classification_report(y_test,y_predG))"
   ]
  },
  {
   "cell_type": "code",
   "execution_count": 157,
   "id": "8127e340",
   "metadata": {},
   "outputs": [],
   "source": [
    "DF=pd.DataFrame({'Models':['LR','SVC','KNN','RF','DT','GB'],\n",
    "                 'Accuracy':[accuracy_score(y_test,y_predL),\n",
    "                            accuracy_score(y_test,y_predS),\n",
    "                            accuracy_score(y_test,y_predK),\n",
    "                            accuracy_score(y_test,y_predR),\n",
    "                            accuracy_score(y_test,y_predD),\n",
    "                            accuracy_score(y_test,y_predG)]})"
   ]
  },
  {
   "cell_type": "code",
   "execution_count": 158,
   "id": "33d41f13",
   "metadata": {},
   "outputs": [
    {
     "data": {
      "text/html": [
       "<div>\n",
       "<style scoped>\n",
       "    .dataframe tbody tr th:only-of-type {\n",
       "        vertical-align: middle;\n",
       "    }\n",
       "\n",
       "    .dataframe tbody tr th {\n",
       "        vertical-align: top;\n",
       "    }\n",
       "\n",
       "    .dataframe thead th {\n",
       "        text-align: right;\n",
       "    }\n",
       "</style>\n",
       "<table border=\"1\" class=\"dataframe\">\n",
       "  <thead>\n",
       "    <tr style=\"text-align: right;\">\n",
       "      <th></th>\n",
       "      <th>Models</th>\n",
       "      <th>Accuracy</th>\n",
       "    </tr>\n",
       "  </thead>\n",
       "  <tbody>\n",
       "    <tr>\n",
       "      <th>0</th>\n",
       "      <td>LR</td>\n",
       "      <td>0.780261</td>\n",
       "    </tr>\n",
       "    <tr>\n",
       "      <th>1</th>\n",
       "      <td>SVC</td>\n",
       "      <td>0.835259</td>\n",
       "    </tr>\n",
       "    <tr>\n",
       "      <th>2</th>\n",
       "      <td>KNN</td>\n",
       "      <td>0.814164</td>\n",
       "    </tr>\n",
       "    <tr>\n",
       "      <th>3</th>\n",
       "      <td>RF</td>\n",
       "      <td>0.861376</td>\n",
       "    </tr>\n",
       "    <tr>\n",
       "      <th>4</th>\n",
       "      <td>DT</td>\n",
       "      <td>0.798343</td>\n",
       "    </tr>\n",
       "    <tr>\n",
       "      <th>5</th>\n",
       "      <td>GB</td>\n",
       "      <td>0.833501</td>\n",
       "    </tr>\n",
       "  </tbody>\n",
       "</table>\n",
       "</div>"
      ],
      "text/plain": [
       "  Models  Accuracy\n",
       "0     LR  0.780261\n",
       "1    SVC  0.835259\n",
       "2    KNN  0.814164\n",
       "3     RF  0.861376\n",
       "4     DT  0.798343\n",
       "5     GB  0.833501"
      ]
     },
     "execution_count": 158,
     "metadata": {},
     "output_type": "execute_result"
    }
   ],
   "source": [
    "DF"
   ]
  },
  {
   "cell_type": "code",
   "execution_count": 159,
   "id": "6d06a7e3",
   "metadata": {},
   "outputs": [
    {
     "name": "stderr",
     "output_type": "stream",
     "text": [
      "C:\\Users\\Ravish\\anaconda3\\lib\\site-packages\\seaborn\\_decorators.py:36: FutureWarning:\n",
      "\n",
      "Pass the following variables as keyword args: x, y. From version 0.12, the only valid positional argument will be `data`, and passing other arguments without an explicit keyword will result in an error or misinterpretation.\n",
      "\n"
     ]
    },
    {
     "data": {
      "text/plain": [
       "<Axes: xlabel='Models', ylabel='Accuracy'>"
      ]
     },
     "execution_count": 159,
     "metadata": {},
     "output_type": "execute_result"
    },
    {
     "data": {
      "image/png": "[encoded data removed]",
      "text/plain": [
       "<Figure size 640x480 with 1 Axes>"
      ]
     },
     "metadata": {},
     "output_type": "display_data"
    }
   ],
   "source": [
    "sns.barplot(DF['Models'],DF['Accuracy'])"
   ]
  },
  {
   "cell_type": "code",
   "execution_count": 160,
   "id": "f900ba80",
   "metadata": {},
   "outputs": [],
   "source": [
    "DF2=pd.DataFrame({'Models':['LR','SVC','KNN','RF','DT','GB'],\n",
    "                 'Accuracy':[precision_score(y_test,y_predL),\n",
    "                            precision_score(y_test,y_predS),\n",
    "                            precision_score(y_test,y_predK),\n",
    "                            precision_score(y_test,y_predR),\n",
    "                            precision_score(y_test,y_predD),\n",
    "                            precision_score(y_test,y_predG)]})"
   ]
  },
  {
   "cell_type": "code",
   "execution_count": 161,
   "id": "8851d247",
   "metadata": {},
   "outputs": [
    {
     "name": "stderr",
     "output_type": "stream",
     "text": [
      "C:\\Users\\Ravish\\anaconda3\\lib\\site-packages\\seaborn\\_decorators.py:36: FutureWarning:\n",
      "\n",
      "Pass the following variables as keyword args: x, y. From version 0.12, the only valid positional argument will be `data`, and passing other arguments without an explicit keyword will result in an error or misinterpretation.\n",
      "\n"
     ]
    },
    {
     "data": {
      "text/plain": [
       "<Axes: xlabel='Models', ylabel='Accuracy'>"
      ]
     },
     "execution_count": 161,
     "metadata": {},
     "output_type": "execute_result"
    },
    {
     "data": {
      "image/png": "[encoded data removed]",
      "text/plain": [
       "<Figure size 640x480 with 1 Axes>"
      ]
     },
     "metadata": {},
     "output_type": "display_data"
    }
   ],
   "source": [
    "sns.barplot(DF2['Models'],DF2['Accuracy'])"
   ]
  },
  {
   "cell_type": "code",
   "execution_count": null,
   "id": "c28238f9",
   "metadata": {},
   "outputs": [],
   "source": []
  },
  {
   "cell_type": "markdown",
   "id": "4016822d",
   "metadata": {},
   "source": [
    "#### Training  whole data "
   ]
  },
  {
   "cell_type": "code",
   "execution_count": 162,
   "id": "46d21b48",
   "metadata": {},
   "outputs": [],
   "source": [
    "X_sample=scaler.fit_transform(X_sample)"
   ]
  },
  {
   "cell_type": "code",
   "execution_count": 163,
   "id": "7f313aec",
   "metadata": {},
   "outputs": [
    {
     "data": {
      "text/plain": [
       "RandomForestClassifier()"
      ]
     },
     "execution_count": 163,
     "metadata": {},
     "output_type": "execute_result"
    }
   ],
   "source": [
    "RF.fit(X_sample,y_sample)"
   ]
  },
  {
   "cell_type": "code",
   "execution_count": null,
   "id": "5498e51b",
   "metadata": {},
   "outputs": [],
   "source": []
  },
  {
   "cell_type": "markdown",
   "id": "55715682",
   "metadata": {},
   "source": [
    "#### Saving model"
   ]
  },
  {
   "cell_type": "code",
   "execution_count": 171,
   "id": "a908c598",
   "metadata": {},
   "outputs": [
    {
     "data": {
      "text/plain": [
       "['bank_churn_model_final']"
      ]
     },
     "execution_count": 171,
     "metadata": {},
     "output_type": "execute_result"
    }
   ],
   "source": [
    "joblib.dump(RF,'bank_churn_model_final')"
   ]
  },
  {
   "cell_type": "code",
   "execution_count": 165,
   "id": "469acd43",
   "metadata": {},
   "outputs": [],
   "source": [
    "Model=joblib.load('bank_churn_model')"
   ]
  },
  {
   "cell_type": "code",
   "execution_count": 166,
   "id": "dc84f237",
   "metadata": {},
   "outputs": [
    {
     "data": {
      "text/plain": [
       "array([[-0.3222175 ,  0.11100571, -1.03058283, ..., -0.57208153,\n",
       "        -0.45965953, -0.83918226],\n",
       "       [-0.44201527,  0.01081433, -1.39835781, ..., -0.57208153,\n",
       "         2.17552324, -0.83918226],\n",
       "       [-1.59643023,  0.11100571,  1.17606709, ..., -0.57208153,\n",
       "        -0.45965953, -0.83918226],\n",
       "       ...,\n",
       "       [ 0.41835059, -0.59033398, -1.7661328 , ..., -0.57208153,\n",
       "        -0.45965953, -0.83918226],\n",
       "       [-0.74695507,  1.21311095, -1.39835781, ...,  1.74800261,\n",
       "        -0.45965953, -0.83918226],\n",
       "       [ 0.1243015 ,  0.31138848,  0.80829211, ..., -0.57208153,\n",
       "        -0.45965953, -0.83918226]])"
      ]
     },
     "execution_count": 166,
     "metadata": {},
     "output_type": "execute_result"
    }
   ],
   "source": [
    "X_sample"
   ]
  },
  {
   "cell_type": "code",
   "execution_count": 199,
   "id": "ead82639",
   "metadata": {},
   "outputs": [],
   "source": [
    "sample_data = {\n",
    "    'CreditScore': [619],\n",
    "    'Age': [42],\n",
    "    'Tenure': [2],\n",
    "    'Balance': [200],\n",
    "    'NumOfProducts': [1],\n",
    "    'HasCrCard': [1],  \n",
    "    'IsActiveMember': [1],  \n",
    "    'EstimatedSalary': [101348],\n",
    "    'Geography_Germany': [0],  \n",
    "    'Geography_Spain': [0],  \n",
    "    'Gender_Male': [0]  \n",
    "}\n",
    "new_data = pd.DataFrame(sample_data)\n",
    "\n",
    "# new_data_transformed = scaler.transform(new_data)"
   ]
  },
  {
   "cell_type": "code",
   "execution_count": 200,
   "id": "4c53e734",
   "metadata": {},
   "outputs": [
    {
     "name": "stderr",
     "output_type": "stream",
     "text": [
      "C:\\Users\\Ravish\\anaconda3\\lib\\site-packages\\sklearn\\base.py:443: UserWarning:\n",
      "\n",
      "X has feature names, but RandomForestClassifier was fitted without feature names\n",
      "\n"
     ]
    },
    {
     "data": {
      "text/plain": [
       "array([0], dtype=int64)"
      ]
     },
     "execution_count": 200,
     "metadata": {},
     "output_type": "execute_result"
    }
   ],
   "source": [
    "Model.predict(new_data)"
   ]
  },
  {
   "cell_type": "code",
   "execution_count": 172,
   "id": "27f493c9",
   "metadata": {},
   "outputs": [
    {
     "name": "stdout",
     "output_type": "stream",
     "text": [
      "INFO\n",
      "<class 'pandas.core.frame.DataFrame'>\n",
      "RangeIndex: 10000 entries, 0 to 9999\n",
      "Data columns (total 12 columns):\n",
      " #   Column             Non-Null Count  Dtype  \n",
      "---  ------             --------------  -----  \n",
      " 0   CreditScore        10000 non-null  int64  \n",
      " 1   Age                10000 non-null  int64  \n",
      " 2   Tenure             10000 non-null  int64  \n",
      " 3   Balance            10000 non-null  float64\n",
      " 4   NumOfProducts      10000 non-null  int64  \n",
      " 5   HasCrCard          10000 non-null  int64  \n",
      " 6   IsActiveMember     10000 non-null  int64  \n",
      " 7   EstimatedSalary    10000 non-null  float64\n",
      " 8   Exited             10000 non-null  int64  \n",
      " 9   Geography_Germany  10000 non-null  uint8  \n",
      " 10  Geography_Spain    10000 non-null  uint8  \n",
      " 11  Gender_Male        10000 non-null  uint8  \n",
      "dtypes: float64(2), int64(7), uint8(3)\n",
      "memory usage: 732.5 KB\n",
      "None\n",
      "\n",
      "DESCRIBE\n",
      "        CreditScore           Age        Tenure        Balance  NumOfProducts  \\\n",
      "count  10000.000000  10000.000000  10000.000000   10000.000000   10000.000000   \n",
      "mean     650.528800     38.921800      5.012800   76485.889288       1.530200   \n",
      "std       96.653299     10.487806      2.892174   62397.405202       0.581654   \n",
      "min      350.000000     18.000000      0.000000       0.000000       1.000000   \n",
      "25%      584.000000     32.000000      3.000000       0.000000       1.000000   \n",
      "50%      652.000000     37.000000      5.000000   97198.540000       1.000000   \n",
      "75%      718.000000     44.000000      7.000000  127644.240000       2.000000   \n",
      "max      850.000000     92.000000     10.000000  250898.090000       4.000000   \n",
      "\n",
      "         HasCrCard  IsActiveMember  EstimatedSalary        Exited  \\\n",
      "count  10000.00000    10000.000000     10000.000000  10000.000000   \n",
      "mean       0.70550        0.515100    100090.239881      0.203700   \n",
      "std        0.45584        0.499797     57510.492818      0.402769   \n",
      "min        0.00000        0.000000        11.580000      0.000000   \n",
      "25%        0.00000        0.000000     51002.110000      0.000000   \n",
      "50%        1.00000        1.000000    100193.915000      0.000000   \n",
      "75%        1.00000        1.000000    149388.247500      0.000000   \n",
      "max        1.00000        1.000000    199992.480000      1.000000   \n",
      "\n",
      "       Geography_Germany  Geography_Spain   Gender_Male  \n",
      "count       10000.000000     10000.000000  10000.000000  \n",
      "mean            0.250900         0.247700      0.545700  \n",
      "std             0.433553         0.431698      0.497932  \n",
      "min             0.000000         0.000000      0.000000  \n",
      "25%             0.000000         0.000000      0.000000  \n",
      "50%             0.000000         0.000000      1.000000  \n",
      "75%             1.000000         0.000000      1.000000  \n",
      "max             1.000000         1.000000      1.000000  \n"
     ]
    }
   ],
   "source": [
    "getInfoDescribe(data)"
   ]
  },
  {
   "cell_type": "code",
   "execution_count": 173,
   "id": "7efe8624",
   "metadata": {},
   "outputs": [
    {
     "data": {
      "text/html": [
       "<div>\n",
       "<style scoped>\n",
       "    .dataframe tbody tr th:only-of-type {\n",
       "        vertical-align: middle;\n",
       "    }\n",
       "\n",
       "    .dataframe tbody tr th {\n",
       "        vertical-align: top;\n",
       "    }\n",
       "\n",
       "    .dataframe thead th {\n",
       "        text-align: right;\n",
       "    }\n",
       "</style>\n",
       "<table border=\"1\" class=\"dataframe\">\n",
       "  <thead>\n",
       "    <tr style=\"text-align: right;\">\n",
       "      <th></th>\n",
       "      <th>CreditScore</th>\n",
       "      <th>Age</th>\n",
       "      <th>Tenure</th>\n",
       "      <th>Balance</th>\n",
       "      <th>NumOfProducts</th>\n",
       "      <th>HasCrCard</th>\n",
       "      <th>IsActiveMember</th>\n",
       "      <th>EstimatedSalary</th>\n",
       "      <th>Exited</th>\n",
       "      <th>Geography_Germany</th>\n",
       "      <th>Geography_Spain</th>\n",
       "      <th>Gender_Male</th>\n",
       "    </tr>\n",
       "  </thead>\n",
       "  <tbody>\n",
       "    <tr>\n",
       "      <th>0</th>\n",
       "      <td>619</td>\n",
       "      <td>42</td>\n",
       "      <td>2</td>\n",
       "      <td>0.00</td>\n",
       "      <td>1</td>\n",
       "      <td>1</td>\n",
       "      <td>1</td>\n",
       "      <td>101348.88</td>\n",
       "      <td>1</td>\n",
       "      <td>0</td>\n",
       "      <td>0</td>\n",
       "      <td>0</td>\n",
       "    </tr>\n",
       "    <tr>\n",
       "      <th>1</th>\n",
       "      <td>608</td>\n",
       "      <td>41</td>\n",
       "      <td>1</td>\n",
       "      <td>83807.86</td>\n",
       "      <td>1</td>\n",
       "      <td>0</td>\n",
       "      <td>1</td>\n",
       "      <td>112542.58</td>\n",
       "      <td>0</td>\n",
       "      <td>0</td>\n",
       "      <td>1</td>\n",
       "      <td>0</td>\n",
       "    </tr>\n",
       "    <tr>\n",
       "      <th>2</th>\n",
       "      <td>502</td>\n",
       "      <td>42</td>\n",
       "      <td>8</td>\n",
       "      <td>159660.80</td>\n",
       "      <td>3</td>\n",
       "      <td>1</td>\n",
       "      <td>0</td>\n",
       "      <td>113931.57</td>\n",
       "      <td>1</td>\n",
       "      <td>0</td>\n",
       "      <td>0</td>\n",
       "      <td>0</td>\n",
       "    </tr>\n",
       "    <tr>\n",
       "      <th>3</th>\n",
       "      <td>699</td>\n",
       "      <td>39</td>\n",
       "      <td>1</td>\n",
       "      <td>0.00</td>\n",
       "      <td>2</td>\n",
       "      <td>0</td>\n",
       "      <td>0</td>\n",
       "      <td>93826.63</td>\n",
       "      <td>0</td>\n",
       "      <td>0</td>\n",
       "      <td>0</td>\n",
       "      <td>0</td>\n",
       "    </tr>\n",
       "    <tr>\n",
       "      <th>4</th>\n",
       "      <td>850</td>\n",
       "      <td>43</td>\n",
       "      <td>2</td>\n",
       "      <td>125510.82</td>\n",
       "      <td>1</td>\n",
       "      <td>1</td>\n",
       "      <td>1</td>\n",
       "      <td>79084.10</td>\n",
       "      <td>0</td>\n",
       "      <td>0</td>\n",
       "      <td>1</td>\n",
       "      <td>0</td>\n",
       "    </tr>\n",
       "  </tbody>\n",
       "</table>\n",
       "</div>"
      ],
      "text/plain": [
       "   CreditScore  Age  Tenure    Balance  NumOfProducts  HasCrCard  \\\n",
       "0          619   42       2       0.00              1          1   \n",
       "1          608   41       1   83807.86              1          0   \n",
       "2          502   42       8  159660.80              3          1   \n",
       "3          699   39       1       0.00              2          0   \n",
       "4          850   43       2  125510.82              1          1   \n",
       "\n",
       "   IsActiveMember  EstimatedSalary  Exited  Geography_Germany  \\\n",
       "0               1        101348.88       1                  0   \n",
       "1               1        112542.58       0                  0   \n",
       "2               0        113931.57       1                  0   \n",
       "3               0         93826.63       0                  0   \n",
       "4               1         79084.10       0                  0   \n",
       "\n",
       "   Geography_Spain  Gender_Male  \n",
       "0                0            0  \n",
       "1                1            0  \n",
       "2                0            0  \n",
       "3                0            0  \n",
       "4                1            0  "
      ]
     },
     "execution_count": 173,
     "metadata": {},
     "output_type": "execute_result"
    }
   ],
   "source": [
    "data.head()"
   ]
  },
  {
   "cell_type": "code",
   "execution_count": null,
   "id": "9ba4ebd5",
   "metadata": {},
   "outputs": [],
   "source": []
  },
  {
   "cell_type": "code",
   "execution_count": null,
   "id": "5f552fba",
   "metadata": {},
   "outputs": [],
   "source": [
    "\n"
   ]
  },
  {
   "cell_type": "code",
   "execution_count": null,
   "id": "ec2c24b2",
   "metadata": {},
   "outputs": [],
   "source": []
  }
 ],
 "metadata": {
  "kernelspec": {
   "display_name": "Python 3 (ipykernel)",
   "language": "python",
   "name": "python3"
  },
  "language_info": {
   "codemirror_mode": {
    "name": "ipython",
    "version": 3
   },
   "file_extension": ".py",
   "mimetype": "text/x-python",
   "name": "python",
   "nbconvert_exporter": "python",
   "pygments_lexer": "ipython3",
   "version": "3.9.13"
  }
 },
 "nbformat": 4,
 "nbformat_minor": 5
}
